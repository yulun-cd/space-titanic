{
 "cells": [
  {
   "cell_type": "code",
   "execution_count": 1,
   "metadata": {},
   "outputs": [],
   "source": [
    "# !pip install kaggle\n",
    "# !kaggle competitions download -c spaceship-titanic\n",
    "\n",
    "import zipfile\n",
    "import pandas as pd\n",
    "import numpy as np\n",
    "\n",
    "import matplotlib.pyplot as plt\n",
    "import seaborn as sns\n",
    "sns.set_theme(style='darkgrid')"
   ]
  },
  {
   "cell_type": "code",
   "execution_count": 2,
   "metadata": {},
   "outputs": [
    {
     "name": "stdout",
     "output_type": "stream",
     "text": [
      "File Name                                             Modified             Size\n",
      "sample_submission.csv                          2022-02-11 14:02:48        59902\n",
      "test.csv                                       2022-02-11 14:02:48       372487\n",
      "train.csv                                      2022-02-11 14:02:48       805421\n"
     ]
    }
   ],
   "source": [
    "with zipfile.ZipFile('spaceship-titanic.zip') as zip:\n",
    "    zip.printdir()\n",
    "    zip.extractall(path='data/')"
   ]
  },
  {
   "cell_type": "code",
   "execution_count": 3,
   "metadata": {},
   "outputs": [
    {
     "name": "stdout",
     "output_type": "stream",
     "text": [
      "(8693, 14) (4277, 13)\n"
     ]
    }
   ],
   "source": [
    "df_train = pd.read_csv('data/train.csv')\n",
    "df_test = pd.read_csv('data/test.csv')\n",
    "\n",
    "print(df_train.shape, df_test.shape)"
   ]
  },
  {
   "cell_type": "markdown",
   "metadata": {},
   "source": [
    "# EDA"
   ]
  },
  {
   "cell_type": "code",
   "execution_count": 4,
   "metadata": {},
   "outputs": [
    {
     "name": "stdout",
     "output_type": "stream",
     "text": [
      "0 0\n"
     ]
    }
   ],
   "source": [
    "# check for duplicates\n",
    "print(df_train.duplicated().sum(), df_test.duplicated().sum())"
   ]
  },
  {
   "cell_type": "markdown",
   "metadata": {},
   "source": [
    "No duplicate spotted in the original dataset."
   ]
  },
  {
   "cell_type": "code",
   "execution_count": 5,
   "metadata": {},
   "outputs": [
    {
     "data": {
      "text/html": [
       "<div>\n",
       "<style scoped>\n",
       "    .dataframe tbody tr th:only-of-type {\n",
       "        vertical-align: middle;\n",
       "    }\n",
       "\n",
       "    .dataframe tbody tr th {\n",
       "        vertical-align: top;\n",
       "    }\n",
       "\n",
       "    .dataframe thead th {\n",
       "        text-align: right;\n",
       "    }\n",
       "</style>\n",
       "<table border=\"1\" class=\"dataframe\">\n",
       "  <thead>\n",
       "    <tr style=\"text-align: right;\">\n",
       "      <th></th>\n",
       "      <th>PassengerId</th>\n",
       "      <th>HomePlanet</th>\n",
       "      <th>CryoSleep</th>\n",
       "      <th>Cabin</th>\n",
       "      <th>Destination</th>\n",
       "      <th>Age</th>\n",
       "      <th>VIP</th>\n",
       "      <th>RoomService</th>\n",
       "      <th>FoodCourt</th>\n",
       "      <th>ShoppingMall</th>\n",
       "      <th>Spa</th>\n",
       "      <th>VRDeck</th>\n",
       "      <th>Name</th>\n",
       "      <th>Transported</th>\n",
       "    </tr>\n",
       "  </thead>\n",
       "  <tbody>\n",
       "    <tr>\n",
       "      <th>0</th>\n",
       "      <td>0001_01</td>\n",
       "      <td>Europa</td>\n",
       "      <td>False</td>\n",
       "      <td>B/0/P</td>\n",
       "      <td>TRAPPIST-1e</td>\n",
       "      <td>39.0</td>\n",
       "      <td>False</td>\n",
       "      <td>0.0</td>\n",
       "      <td>0.0</td>\n",
       "      <td>0.0</td>\n",
       "      <td>0.0</td>\n",
       "      <td>0.0</td>\n",
       "      <td>Maham Ofracculy</td>\n",
       "      <td>False</td>\n",
       "    </tr>\n",
       "    <tr>\n",
       "      <th>1</th>\n",
       "      <td>0002_01</td>\n",
       "      <td>Earth</td>\n",
       "      <td>False</td>\n",
       "      <td>F/0/S</td>\n",
       "      <td>TRAPPIST-1e</td>\n",
       "      <td>24.0</td>\n",
       "      <td>False</td>\n",
       "      <td>109.0</td>\n",
       "      <td>9.0</td>\n",
       "      <td>25.0</td>\n",
       "      <td>549.0</td>\n",
       "      <td>44.0</td>\n",
       "      <td>Juanna Vines</td>\n",
       "      <td>True</td>\n",
       "    </tr>\n",
       "    <tr>\n",
       "      <th>2</th>\n",
       "      <td>0003_01</td>\n",
       "      <td>Europa</td>\n",
       "      <td>False</td>\n",
       "      <td>A/0/S</td>\n",
       "      <td>TRAPPIST-1e</td>\n",
       "      <td>58.0</td>\n",
       "      <td>True</td>\n",
       "      <td>43.0</td>\n",
       "      <td>3576.0</td>\n",
       "      <td>0.0</td>\n",
       "      <td>6715.0</td>\n",
       "      <td>49.0</td>\n",
       "      <td>Altark Susent</td>\n",
       "      <td>False</td>\n",
       "    </tr>\n",
       "    <tr>\n",
       "      <th>3</th>\n",
       "      <td>0003_02</td>\n",
       "      <td>Europa</td>\n",
       "      <td>False</td>\n",
       "      <td>A/0/S</td>\n",
       "      <td>TRAPPIST-1e</td>\n",
       "      <td>33.0</td>\n",
       "      <td>False</td>\n",
       "      <td>0.0</td>\n",
       "      <td>1283.0</td>\n",
       "      <td>371.0</td>\n",
       "      <td>3329.0</td>\n",
       "      <td>193.0</td>\n",
       "      <td>Solam Susent</td>\n",
       "      <td>False</td>\n",
       "    </tr>\n",
       "    <tr>\n",
       "      <th>4</th>\n",
       "      <td>0004_01</td>\n",
       "      <td>Earth</td>\n",
       "      <td>False</td>\n",
       "      <td>F/1/S</td>\n",
       "      <td>TRAPPIST-1e</td>\n",
       "      <td>16.0</td>\n",
       "      <td>False</td>\n",
       "      <td>303.0</td>\n",
       "      <td>70.0</td>\n",
       "      <td>151.0</td>\n",
       "      <td>565.0</td>\n",
       "      <td>2.0</td>\n",
       "      <td>Willy Santantines</td>\n",
       "      <td>True</td>\n",
       "    </tr>\n",
       "    <tr>\n",
       "      <th>0</th>\n",
       "      <td>0013_01</td>\n",
       "      <td>Earth</td>\n",
       "      <td>True</td>\n",
       "      <td>G/3/S</td>\n",
       "      <td>TRAPPIST-1e</td>\n",
       "      <td>27.0</td>\n",
       "      <td>False</td>\n",
       "      <td>0.0</td>\n",
       "      <td>0.0</td>\n",
       "      <td>0.0</td>\n",
       "      <td>0.0</td>\n",
       "      <td>0.0</td>\n",
       "      <td>Nelly Carsoning</td>\n",
       "      <td>NaN</td>\n",
       "    </tr>\n",
       "    <tr>\n",
       "      <th>1</th>\n",
       "      <td>0018_01</td>\n",
       "      <td>Earth</td>\n",
       "      <td>False</td>\n",
       "      <td>F/4/S</td>\n",
       "      <td>TRAPPIST-1e</td>\n",
       "      <td>19.0</td>\n",
       "      <td>False</td>\n",
       "      <td>0.0</td>\n",
       "      <td>9.0</td>\n",
       "      <td>0.0</td>\n",
       "      <td>2823.0</td>\n",
       "      <td>0.0</td>\n",
       "      <td>Lerome Peckers</td>\n",
       "      <td>NaN</td>\n",
       "    </tr>\n",
       "    <tr>\n",
       "      <th>2</th>\n",
       "      <td>0019_01</td>\n",
       "      <td>Europa</td>\n",
       "      <td>True</td>\n",
       "      <td>C/0/S</td>\n",
       "      <td>55 Cancri e</td>\n",
       "      <td>31.0</td>\n",
       "      <td>False</td>\n",
       "      <td>0.0</td>\n",
       "      <td>0.0</td>\n",
       "      <td>0.0</td>\n",
       "      <td>0.0</td>\n",
       "      <td>0.0</td>\n",
       "      <td>Sabih Unhearfus</td>\n",
       "      <td>NaN</td>\n",
       "    </tr>\n",
       "    <tr>\n",
       "      <th>3</th>\n",
       "      <td>0021_01</td>\n",
       "      <td>Europa</td>\n",
       "      <td>False</td>\n",
       "      <td>C/1/S</td>\n",
       "      <td>TRAPPIST-1e</td>\n",
       "      <td>38.0</td>\n",
       "      <td>False</td>\n",
       "      <td>0.0</td>\n",
       "      <td>6652.0</td>\n",
       "      <td>0.0</td>\n",
       "      <td>181.0</td>\n",
       "      <td>585.0</td>\n",
       "      <td>Meratz Caltilter</td>\n",
       "      <td>NaN</td>\n",
       "    </tr>\n",
       "    <tr>\n",
       "      <th>4</th>\n",
       "      <td>0023_01</td>\n",
       "      <td>Earth</td>\n",
       "      <td>False</td>\n",
       "      <td>F/5/S</td>\n",
       "      <td>TRAPPIST-1e</td>\n",
       "      <td>20.0</td>\n",
       "      <td>False</td>\n",
       "      <td>10.0</td>\n",
       "      <td>0.0</td>\n",
       "      <td>635.0</td>\n",
       "      <td>0.0</td>\n",
       "      <td>0.0</td>\n",
       "      <td>Brence Harperez</td>\n",
       "      <td>NaN</td>\n",
       "    </tr>\n",
       "  </tbody>\n",
       "</table>\n",
       "</div>"
      ],
      "text/plain": [
       "  PassengerId HomePlanet CryoSleep  Cabin  Destination   Age    VIP  \\\n",
       "0     0001_01     Europa     False  B/0/P  TRAPPIST-1e  39.0  False   \n",
       "1     0002_01      Earth     False  F/0/S  TRAPPIST-1e  24.0  False   \n",
       "2     0003_01     Europa     False  A/0/S  TRAPPIST-1e  58.0   True   \n",
       "3     0003_02     Europa     False  A/0/S  TRAPPIST-1e  33.0  False   \n",
       "4     0004_01      Earth     False  F/1/S  TRAPPIST-1e  16.0  False   \n",
       "0     0013_01      Earth      True  G/3/S  TRAPPIST-1e  27.0  False   \n",
       "1     0018_01      Earth     False  F/4/S  TRAPPIST-1e  19.0  False   \n",
       "2     0019_01     Europa      True  C/0/S  55 Cancri e  31.0  False   \n",
       "3     0021_01     Europa     False  C/1/S  TRAPPIST-1e  38.0  False   \n",
       "4     0023_01      Earth     False  F/5/S  TRAPPIST-1e  20.0  False   \n",
       "\n",
       "   RoomService  FoodCourt  ShoppingMall     Spa  VRDeck               Name  \\\n",
       "0          0.0        0.0           0.0     0.0     0.0    Maham Ofracculy   \n",
       "1        109.0        9.0          25.0   549.0    44.0       Juanna Vines   \n",
       "2         43.0     3576.0           0.0  6715.0    49.0      Altark Susent   \n",
       "3          0.0     1283.0         371.0  3329.0   193.0       Solam Susent   \n",
       "4        303.0       70.0         151.0   565.0     2.0  Willy Santantines   \n",
       "0          0.0        0.0           0.0     0.0     0.0    Nelly Carsoning   \n",
       "1          0.0        9.0           0.0  2823.0     0.0     Lerome Peckers   \n",
       "2          0.0        0.0           0.0     0.0     0.0    Sabih Unhearfus   \n",
       "3          0.0     6652.0           0.0   181.0   585.0   Meratz Caltilter   \n",
       "4         10.0        0.0         635.0     0.0     0.0    Brence Harperez   \n",
       "\n",
       "  Transported  \n",
       "0       False  \n",
       "1        True  \n",
       "2       False  \n",
       "3       False  \n",
       "4        True  \n",
       "0         NaN  \n",
       "1         NaN  \n",
       "2         NaN  \n",
       "3         NaN  \n",
       "4         NaN  "
      ]
     },
     "execution_count": 5,
     "metadata": {},
     "output_type": "execute_result"
    }
   ],
   "source": [
    "# take a peek at the training and test sets\n",
    "pd.concat([df_train.head(5), df_test.head(5)])"
   ]
  },
  {
   "cell_type": "markdown",
   "metadata": {},
   "source": [
    "---\n",
    "`PassengerId` - A unique Id for each passenger. Each Id takes the form gggg_pp where gggg indicates a group the passenger is travelling with and pp is their number within the group. People in a group are often family members, but not always.\n",
    "\n",
    "`HomePlanet` - The planet the passenger departed from, typically their planet of permanent residence.\n",
    "\n",
    "`CryoSleep` - Indicates whether the passenger elected to be put into suspended animation for the duration of the voyage. Passengers in cryosleep are confined to their cabins.\n",
    "\n",
    "`Cabin` - The cabin number where the passenger is staying. Takes the form deck/num/side, where side can be either P for Port or S for Starboard.\n",
    "\n",
    "`Destination` - The planet the passenger will be debarking to.\n",
    "\n",
    "`Age` - The age of the passenger.\n",
    "\n",
    "`VIP` - Whether the passenger has paid for special VIP service during the voyage.\n",
    "\n",
    "`RoomService`, `FoodCourt`, `ShoppingMall`, `Spa`, `VRDeck` - Amount the passenger has billed at each of the Spaceship Titanic's many luxury amenities.\n",
    "\n",
    "`Name` - The first and last names of the passenger.\n",
    "\n",
    "`Transported` - Whether the passenger was transported to another dimension. This is the target, the column you are trying to predict.\n",
    "\n",
    "---"
   ]
  },
  {
   "cell_type": "markdown",
   "metadata": {},
   "source": [
    "Features that can be extracted from the given data:\n",
    "- group information -- `PassengerId`\n",
    "- deck, num and side -- `Cabin`\n",
    "- family -- `Name`"
   ]
  },
  {
   "cell_type": "code",
   "execution_count": 6,
   "metadata": {},
   "outputs": [
    {
     "data": {
      "image/png": "[encoded data removed]",
      "text/plain": [
       "<Figure size 720x1080 with 6 Axes>"
      ]
     },
     "metadata": {
      "needs_background": "light"
     },
     "output_type": "display_data"
    }
   ],
   "source": [
    "# columns of numerical features\n",
    "num_cols = ['Age', 'RoomService', 'FoodCourt', 'ShoppingMall', 'Spa', 'VRDeck']\n",
    "\n",
    "# visualise the relationship between the numerical features and the target\n",
    "fig, axs = plt.subplots(3, 2, figsize=(10,15))\n",
    "\n",
    "for i, col in enumerate(num_cols):\n",
    "    ax = axs[i//2][i%2]\n",
    "    sns.histplot(data=df_train, x=col, hue='Transported', bins=25, ax=ax)\n",
    "    ax.set_xlabel('')\n",
    "    ax.set_ylabel('')\n",
    "    ax.set_title(col, fontsize=14)\n",
    "\n",
    "plt.show()"
   ]
  },
  {
   "cell_type": "markdown",
   "metadata": {},
   "source": [
    "The five amenities were very similar. Most people do not purchase the amenities.\n",
    "\n",
    "Maybe the five features can be integrated to become one feature representing total spend on all amenities, or become a categorical data suggesting whether a person purchase at any amenity or not."
   ]
  },
  {
   "cell_type": "code",
   "execution_count": 7,
   "metadata": {},
   "outputs": [
    {
     "data": {
      "text/html": [
       "<div>\n",
       "<style scoped>\n",
       "    .dataframe tbody tr th:only-of-type {\n",
       "        vertical-align: middle;\n",
       "    }\n",
       "\n",
       "    .dataframe tbody tr th {\n",
       "        vertical-align: top;\n",
       "    }\n",
       "\n",
       "    .dataframe thead th {\n",
       "        text-align: right;\n",
       "    }\n",
       "</style>\n",
       "<table border=\"1\" class=\"dataframe\">\n",
       "  <thead>\n",
       "    <tr style=\"text-align: right;\">\n",
       "      <th></th>\n",
       "      <th>RoomService</th>\n",
       "      <th>FoodCourt</th>\n",
       "      <th>ShoppingMall</th>\n",
       "      <th>Spa</th>\n",
       "      <th>VRDeck</th>\n",
       "    </tr>\n",
       "  </thead>\n",
       "  <tbody>\n",
       "    <tr>\n",
       "      <th>0</th>\n",
       "      <td>0.0</td>\n",
       "      <td>0.0</td>\n",
       "      <td>0.0</td>\n",
       "      <td>0.0</td>\n",
       "      <td>0.0</td>\n",
       "    </tr>\n",
       "    <tr>\n",
       "      <th>9</th>\n",
       "      <td>0.0</td>\n",
       "      <td>0.0</td>\n",
       "      <td>0.0</td>\n",
       "      <td>0.0</td>\n",
       "      <td>0.0</td>\n",
       "    </tr>\n",
       "    <tr>\n",
       "      <th>18</th>\n",
       "      <td>0.0</td>\n",
       "      <td>0.0</td>\n",
       "      <td>0.0</td>\n",
       "      <td>0.0</td>\n",
       "      <td>0.0</td>\n",
       "    </tr>\n",
       "    <tr>\n",
       "      <th>19</th>\n",
       "      <td>0.0</td>\n",
       "      <td>0.0</td>\n",
       "      <td>0.0</td>\n",
       "      <td>0.0</td>\n",
       "      <td>0.0</td>\n",
       "    </tr>\n",
       "    <tr>\n",
       "      <th>21</th>\n",
       "      <td>0.0</td>\n",
       "      <td>0.0</td>\n",
       "      <td>0.0</td>\n",
       "      <td>0.0</td>\n",
       "      <td>0.0</td>\n",
       "    </tr>\n",
       "    <tr>\n",
       "      <th>...</th>\n",
       "      <td>...</td>\n",
       "      <td>...</td>\n",
       "      <td>...</td>\n",
       "      <td>...</td>\n",
       "      <td>...</td>\n",
       "    </tr>\n",
       "    <tr>\n",
       "      <th>8680</th>\n",
       "      <td>0.0</td>\n",
       "      <td>0.0</td>\n",
       "      <td>0.0</td>\n",
       "      <td>0.0</td>\n",
       "      <td>0.0</td>\n",
       "    </tr>\n",
       "    <tr>\n",
       "      <th>8681</th>\n",
       "      <td>0.0</td>\n",
       "      <td>0.0</td>\n",
       "      <td>0.0</td>\n",
       "      <td>0.0</td>\n",
       "      <td>0.0</td>\n",
       "    </tr>\n",
       "    <tr>\n",
       "      <th>8684</th>\n",
       "      <td>0.0</td>\n",
       "      <td>0.0</td>\n",
       "      <td>0.0</td>\n",
       "      <td>0.0</td>\n",
       "      <td>0.0</td>\n",
       "    </tr>\n",
       "    <tr>\n",
       "      <th>8685</th>\n",
       "      <td>0.0</td>\n",
       "      <td>0.0</td>\n",
       "      <td>0.0</td>\n",
       "      <td>0.0</td>\n",
       "      <td>0.0</td>\n",
       "    </tr>\n",
       "    <tr>\n",
       "      <th>8689</th>\n",
       "      <td>0.0</td>\n",
       "      <td>0.0</td>\n",
       "      <td>0.0</td>\n",
       "      <td>0.0</td>\n",
       "      <td>0.0</td>\n",
       "    </tr>\n",
       "  </tbody>\n",
       "</table>\n",
       "<p>3247 rows × 5 columns</p>\n",
       "</div>"
      ],
      "text/plain": [
       "      RoomService  FoodCourt  ShoppingMall  Spa  VRDeck\n",
       "0             0.0        0.0           0.0  0.0     0.0\n",
       "9             0.0        0.0           0.0  0.0     0.0\n",
       "18            0.0        0.0           0.0  0.0     0.0\n",
       "19            0.0        0.0           0.0  0.0     0.0\n",
       "21            0.0        0.0           0.0  0.0     0.0\n",
       "...           ...        ...           ...  ...     ...\n",
       "8680          0.0        0.0           0.0  0.0     0.0\n",
       "8681          0.0        0.0           0.0  0.0     0.0\n",
       "8684          0.0        0.0           0.0  0.0     0.0\n",
       "8685          0.0        0.0           0.0  0.0     0.0\n",
       "8689          0.0        0.0           0.0  0.0     0.0\n",
       "\n",
       "[3247 rows x 5 columns]"
      ]
     },
     "execution_count": 7,
     "metadata": {},
     "output_type": "execute_result"
    }
   ],
   "source": [
    "# taking a closer look at the five amenities\n",
    "df_train[num_cols[1:]].loc[(df_train[num_cols[1:]]==0).all(axis=1)]"
   ]
  },
  {
   "cell_type": "markdown",
   "metadata": {},
   "source": [
    "Nearly half of the passengers did not purchase any of the amenity.\n",
    "\n",
    "Using a categorical feature to represent it would be better."
   ]
  },
  {
   "cell_type": "code",
   "execution_count": 8,
   "metadata": {},
   "outputs": [
    {
     "data": {
      "image/png": "[encoded data removed]",
      "text/plain": [
       "<Figure size 576x1296 with 4 Axes>"
      ]
     },
     "metadata": {
      "needs_background": "light"
     },
     "output_type": "display_data"
    }
   ],
   "source": [
    "# columns of categorical features\n",
    "cat_cols = ['HomePlanet', 'CryoSleep', 'Destination', 'VIP']\n",
    "\n",
    "fig, axs = plt.subplots(4, 1, figsize=(8,18))\n",
    "\n",
    "for i, col in enumerate(cat_cols):\n",
    "    ax = axs[i]\n",
    "    sns.countplot(data=df_train, x=col, hue='Transported', ax=ax)\n",
    "    ax.set_xlabel('')\n",
    "    ax.set_ylabel('')\n",
    "    ax.set_title(col, fontsize=14)\n",
    "\n",
    "plt.show()"
   ]
  },
  {
   "cell_type": "markdown",
   "metadata": {},
   "source": [
    "The `VIP` feature seems to have little relationship with the target. \n",
    "\n",
    "Most people are not VIPs.\n",
    "\n",
    "Maybe removing it would be better."
   ]
  },
  {
   "cell_type": "code",
   "execution_count": 9,
   "metadata": {},
   "outputs": [],
   "source": [
    "# define a function to drop columns (making it easier for later)\n",
    "\n",
    "def drop_col(cols):\n",
    "    df_train.drop(cols, axis=1, inplace=True)\n",
    "    df_test.drop(cols, axis=1, inplace=True)"
   ]
  },
  {
   "cell_type": "code",
   "execution_count": 10,
   "metadata": {},
   "outputs": [],
   "source": [
    "drop_col('VIP')\n",
    "cat_cols.remove('VIP')"
   ]
  },
  {
   "cell_type": "code",
   "execution_count": 11,
   "metadata": {},
   "outputs": [
    {
     "data": {
      "text/plain": [
       "True     0.503624\n",
       "False    0.496376\n",
       "Name: Transported, dtype: float64"
      ]
     },
     "execution_count": 11,
     "metadata": {},
     "output_type": "execute_result"
    }
   ],
   "source": [
    "# explore the distribution of the target\n",
    "df_train['Transported'].value_counts()/df_train.shape[0]"
   ]
  },
  {
   "cell_type": "code",
   "execution_count": 12,
   "metadata": {},
   "outputs": [
    {
     "data": {
      "text/plain": [
       "PassengerId      object\n",
       "HomePlanet       object\n",
       "CryoSleep        object\n",
       "Cabin            object\n",
       "Destination      object\n",
       "Age             float64\n",
       "RoomService     float64\n",
       "FoodCourt       float64\n",
       "ShoppingMall    float64\n",
       "Spa             float64\n",
       "VRDeck          float64\n",
       "Name             object\n",
       "Transported        bool\n",
       "dtype: object"
      ]
     },
     "execution_count": 12,
     "metadata": {},
     "output_type": "execute_result"
    }
   ],
   "source": [
    "# inspect data types of all columns\n",
    "df_train.dtypes"
   ]
  },
  {
   "cell_type": "markdown",
   "metadata": {},
   "source": [
    "Some columns have problematic data types. We need to take care of them later."
   ]
  },
  {
   "cell_type": "code",
   "execution_count": 13,
   "metadata": {},
   "outputs": [
    {
     "name": "stdout",
     "output_type": "stream",
     "text": [
      "Total number of missing value in the training set is 2121\n",
      "PassengerId       0\n",
      "HomePlanet      201\n",
      "CryoSleep       217\n",
      "Cabin           199\n",
      "Destination     182\n",
      "Age             179\n",
      "RoomService     181\n",
      "FoodCourt       183\n",
      "ShoppingMall    208\n",
      "Spa             183\n",
      "VRDeck          188\n",
      "Name            200\n",
      "Transported       0\n",
      "dtype: int64\n",
      "\n",
      "Total number of missing value in the test set is 1024\n",
      "PassengerId       0\n",
      "HomePlanet       87\n",
      "CryoSleep        93\n",
      "Cabin           100\n",
      "Destination      92\n",
      "Age              91\n",
      "RoomService      82\n",
      "FoodCourt       106\n",
      "ShoppingMall     98\n",
      "Spa             101\n",
      "VRDeck           80\n",
      "Name             94\n",
      "dtype: int64\n"
     ]
    }
   ],
   "source": [
    "# missing values\n",
    "print(\"Total number of missing value in the training set is\", sum(df_train.isna().sum()))\n",
    "print(df_train.isna().sum())\n",
    "\n",
    "print(\"\\nTotal number of missing value in the test set is\", sum(df_test.isna().sum()))\n",
    "print(df_test.isna().sum())"
   ]
  },
  {
   "cell_type": "code",
   "execution_count": 14,
   "metadata": {},
   "outputs": [
    {
     "data": {
      "image/png": "[encoded data removed]",
      "text/plain": [
       "<Figure size 432x864 with 2 Axes>"
      ]
     },
     "metadata": {
      "needs_background": "light"
     },
     "output_type": "display_data"
    }
   ],
   "source": [
    "# visualise the count of missing value for each column\n",
    "fig, (ax1, ax2) = plt.subplots(2, 1, figsize=(6,12))\n",
    "\n",
    "sns.barplot(x=df_train.isna().sum().values, y=df_train.columns, ax=ax1)\n",
    "sns.barplot(x=df_test.isna().sum().values, y=df_test.columns, ax=ax2)\n",
    "\n",
    "ax1.set_title('missing value counts for training set')\n",
    "ax2.set_title('missing value counts for test set')\n",
    "\n",
    "plt.tight_layout()\n",
    "plt.show()"
   ]
  },
  {
   "cell_type": "code",
   "execution_count": 15,
   "metadata": {},
   "outputs": [
    {
     "data": {
      "text/plain": [
       "1922"
      ]
     },
     "execution_count": 15,
     "metadata": {},
     "output_type": "execute_result"
    }
   ],
   "source": [
    "# number of rows with at least one missing value\n",
    "df_train[df_train.isna().any(axis=1)].shape[0]"
   ]
  },
  {
   "cell_type": "markdown",
   "metadata": {},
   "source": [
    "The missing data is quite spread out in all columns.\n",
    "\n",
    "We need to take care of them according to the data type of each feature. (We will do it later)"
   ]
  },
  {
   "cell_type": "markdown",
   "metadata": {},
   "source": [
    "# Feature Engineering (creating new features based on existing ones)"
   ]
  },
  {
   "cell_type": "markdown",
   "metadata": {},
   "source": [
    "## `PassengerId`"
   ]
  },
  {
   "cell_type": "code",
   "execution_count": 16,
   "metadata": {},
   "outputs": [],
   "source": [
    "# extract group information from PassengerId\n",
    "\n",
    "df_train['GroupId'] = df_train['PassengerId'].apply(lambda x: x[:4])\n",
    "df_train['GroupNo'] = df_train['PassengerId'].apply(lambda x: x[5:])\n",
    "\n",
    "df_test['GroupId'] = df_test['PassengerId'].apply(lambda x: x[:4])\n",
    "df_test['GroupNo'] = df_test['PassengerId'].apply(lambda x: x[5:])"
   ]
  },
  {
   "cell_type": "code",
   "execution_count": 17,
   "metadata": {},
   "outputs": [
    {
     "data": {
      "text/plain": [
       "<AxesSubplot:xlabel='GroupId'>"
      ]
     },
     "execution_count": 17,
     "metadata": {},
     "output_type": "execute_result"
    },
    {
     "data": {
      "image/png": "[encoded data removed]",
      "text/plain": [
       "<Figure size 432x288 with 1 Axes>"
      ]
     },
     "metadata": {
      "needs_background": "light"
     },
     "output_type": "display_data"
    }
   ],
   "source": [
    "# number of transported passenger in each group\n",
    "df_train.astype({'Transported': int}).groupby('GroupId').sum()['Transported'].plot()"
   ]
  },
  {
   "cell_type": "code",
   "execution_count": 18,
   "metadata": {},
   "outputs": [
    {
     "data": {
      "image/png": "[encoded data removed]",
      "text/plain": [
       "<Figure size 432x288 with 1 Axes>"
      ]
     },
     "metadata": {
      "needs_background": "light"
     },
     "output_type": "display_data"
    }
   ],
   "source": [
    "# for each group number\n",
    "sns.countplot(data=df_train, x='GroupNo', hue='Transported')\n",
    "plt.show()"
   ]
  },
  {
   "cell_type": "markdown",
   "metadata": {},
   "source": [
    "The groupid feature can hardly be used for any model, because the number of unique categories is too large.\n",
    "\n",
    "There is a way to compute it to make use of the group id information. We can know which group each passenger is in and we can also know how many passengers there are in each group. Hence we can create a new feature representing the size of the group a given passenger is in."
   ]
  },
  {
   "cell_type": "code",
   "execution_count": 19,
   "metadata": {},
   "outputs": [],
   "source": [
    "# sizes of all groups\n",
    "groupsize = pd.concat([df_train['GroupId'], df_test['GroupId']]).value_counts()\n",
    "\n",
    "df_train['GroupSize'] = df_train['GroupId'].apply(lambda x: groupsize[x])\n",
    "df_test['GroupSize'] = df_test['GroupId'].apply(lambda x: groupsize[x])"
   ]
  },
  {
   "cell_type": "code",
   "execution_count": 20,
   "metadata": {},
   "outputs": [
    {
     "data": {
      "image/png": "[encoded data removed]",
      "text/plain": [
       "<Figure size 432x288 with 1 Axes>"
      ]
     },
     "metadata": {
      "needs_background": "light"
     },
     "output_type": "display_data"
    }
   ],
   "source": [
    "# visualise the group size distribution\n",
    "sns.countplot(data=df_train, x='GroupSize', hue='Transported')\n",
    "plt.show()"
   ]
  },
  {
   "cell_type": "markdown",
   "metadata": {},
   "source": [
    "It seems that there are much more passengers in groups with size 1.\n",
    "\n",
    "Hence we can create a binary categorical feature representing if a passenger is the only member in his/her group."
   ]
  },
  {
   "cell_type": "code",
   "execution_count": 21,
   "metadata": {},
   "outputs": [
    {
     "data": {
      "image/png": "[encoded data removed]",
      "text/plain": [
       "<Figure size 432x288 with 1 Axes>"
      ]
     },
     "metadata": {
      "needs_background": "light"
     },
     "output_type": "display_data"
    }
   ],
   "source": [
    "# add binary category for repersenting if a passenger is the only member in a group\n",
    "df_train['OnlyMember'] = df_train['GroupSize'] == 1\n",
    "df_test['OnlyMember'] = df_test['GroupSize'] == 1\n",
    "\n",
    "sns.countplot(data=df_train, x='OnlyMember', hue='Transported')\n",
    "plt.show()"
   ]
  },
  {
   "cell_type": "code",
   "execution_count": 22,
   "metadata": {},
   "outputs": [],
   "source": [
    "# discard unnecessary columns\n",
    "drop_col(['PassengerId', 'GroupId', 'GroupSize'])"
   ]
  },
  {
   "cell_type": "markdown",
   "metadata": {},
   "source": [
    "## `Cabin`"
   ]
  },
  {
   "cell_type": "code",
   "execution_count": 23,
   "metadata": {},
   "outputs": [],
   "source": [
    "# fill nan values for processing\n",
    "df_train['Cabin'].fillna('#/#/#', inplace=True)\n",
    "df_test['Cabin'].fillna('#/#/#', inplace=True)\n",
    "\n",
    "# extract deck, num and side from Cabin\n",
    "df_train['CabinDeck'] = df_train['Cabin'].apply(lambda x: x.split('/')[0])\n",
    "df_train['CabinNum'] = df_train['Cabin'].apply(lambda x: x.split('/')[1])\n",
    "df_train['CabinSide'] = df_train['Cabin'].apply(lambda x: x.split('/')[2])\n",
    "\n",
    "df_test['CabinDeck'] = df_test['Cabin'].apply(lambda x: x.split('/')[0])\n",
    "df_test['CabinNum'] = df_test['Cabin'].apply(lambda x: x.split('/')[1])\n",
    "df_test['CabinSide'] = df_test['Cabin'].apply(lambda x: x.split('/')[2])"
   ]
  },
  {
   "cell_type": "code",
   "execution_count": 24,
   "metadata": {},
   "outputs": [],
   "source": [
    "# retrieve the missing values\n",
    "for col in ['CabinDeck', 'CabinNum', 'CabinSide']:\n",
    "    df_train.loc[df_train[col] == '#', col] = np.nan\n",
    "    df_test.loc[df_test[col] == '#', col] = np.nan"
   ]
  },
  {
   "cell_type": "code",
   "execution_count": 25,
   "metadata": {},
   "outputs": [
    {
     "data": {
      "text/plain": [
       "CabinDeck    object\n",
       "CabinNum     object\n",
       "CabinSide    object\n",
       "dtype: object"
      ]
     },
     "execution_count": 25,
     "metadata": {},
     "output_type": "execute_result"
    }
   ],
   "source": [
    "# check data types\n",
    "df_train[['CabinDeck', 'CabinNum', 'CabinSide']].dtypes"
   ]
  },
  {
   "cell_type": "code",
   "execution_count": 26,
   "metadata": {},
   "outputs": [],
   "source": [
    "# set correct data type (Num has to be float because np.nan cannot be convert to integer type)\n",
    "# we will deal with the missing values later\n",
    "df_train['CabinNum'] = df_train['CabinNum'].astype(float)\n",
    "df_test['CabinNum'] = df_test['CabinNum'].astype(float)"
   ]
  },
  {
   "cell_type": "code",
   "execution_count": 27,
   "metadata": {},
   "outputs": [
    {
     "data": {
      "text/plain": [
       "CabinDeck       8\n",
       "CabinNum     1817\n",
       "CabinSide       2\n",
       "dtype: int64"
      ]
     },
     "execution_count": 27,
     "metadata": {},
     "output_type": "execute_result"
    }
   ],
   "source": [
    "# check unique values for each column\n",
    "df_train[['CabinDeck', 'CabinNum', 'CabinSide']].nunique()"
   ]
  },
  {
   "cell_type": "code",
   "execution_count": 28,
   "metadata": {},
   "outputs": [
    {
     "data": {
      "image/png": "[encoded data removed]",
      "text/plain": [
       "<Figure size 576x864 with 3 Axes>"
      ]
     },
     "metadata": {
      "needs_background": "light"
     },
     "output_type": "display_data"
    }
   ],
   "source": [
    "# visualise the distributions \n",
    "fig= plt.figure(figsize=(8,12))\n",
    "\n",
    "plt.subplot(3,1,1)\n",
    "sns.countplot(data=df_train, x='CabinDeck', hue='Transported', order=['G','F','E','D','C','B','A','T'])\n",
    "plt.xlabel('')\n",
    "plt.title('Deck')\n",
    "\n",
    "plt.subplot(3,1,2)\n",
    "sns.histplot(data=df_train, x='CabinNum', hue='Transported', bins=100)\n",
    "plt.xlabel('')\n",
    "plt.title('Num')\n",
    "\n",
    "plt.subplot(3,1,3)\n",
    "sns.countplot(data=df_train, x='CabinSide', hue='Transported')\n",
    "plt.xlabel('')\n",
    "plt.title('Side')\n",
    "\n",
    "plt.tight_layout()\n",
    "plt.show()"
   ]
  },
  {
   "cell_type": "markdown",
   "metadata": {},
   "source": [
    "The cabin number shows some clear decrease in the counts of total passengers. 0~300 has the most passengers, 300~600 has significantly fewer passengers. 600~1500 has further lower number. And 1500 onward has the fewest passengers.\n",
    "\n",
    "Hence we can probably use intervals with 300 (categorical data) rather than continuous data."
   ]
  },
  {
   "cell_type": "code",
   "execution_count": 29,
   "metadata": {},
   "outputs": [],
   "source": [
    "df_train['CabinNumInterval'] = pd.Series(str)\n",
    "df_test['CabinNumInterval'] = pd.Series(str)\n",
    "\n",
    "df_train.loc[df_train['CabinNum'] < 300, 'CabinNumInterval'] = '< 300'\n",
    "df_test.loc[df_test['CabinNum'] < 300, 'CabinNumInterval'] = '< 300'\n",
    "\n",
    "df_train.loc[(df_train['CabinNum'] >= 300) & (df_train['CabinNum'] < 600), 'CabinNumInterval'] = '300 ~ 600'\n",
    "df_test.loc[(df_test['CabinNum'] >= 300) & (df_test['CabinNum'] < 600), 'CabinNumInterval'] = '300 ~ 600'\n",
    "\n",
    "df_train.loc[(df_train['CabinNum'] >= 600) & (df_train['CabinNum'] < 900), 'CabinNumInterval'] = '600 ~ 900'\n",
    "df_test.loc[(df_test['CabinNum'] >= 600) & (df_test['CabinNum'] < 900), 'CabinNumInterval'] = '600 ~ 900'\n",
    "\n",
    "df_train.loc[(df_train['CabinNum'] >= 900) & (df_train['CabinNum'] < 1200), 'CabinNumInterval'] = '900 ~ 1200'\n",
    "df_test.loc[(df_test['CabinNum'] >= 900) & (df_test['CabinNum'] < 1200), 'CabinNumInterval'] = '900 ~ 1200'\n",
    "\n",
    "df_train.loc[(df_train['CabinNum'] >= 1200) & (df_train['CabinNum'] < 1500), 'CabinNumInterval'] = '1200 ~ 1500'\n",
    "df_test.loc[(df_test['CabinNum'] >= 1200) & (df_test['CabinNum'] < 1500), 'CabinNumInterval'] = '1200 ~ 1500'\n",
    "\n",
    "df_train.loc[df_train['CabinNum'] >= 1500, 'CabinNumInterval'] = '>= 1500'\n",
    "df_test.loc[df_test['CabinNum'] >= 1500, 'CabinNumInterval'] = '>= 1500'"
   ]
  },
  {
   "cell_type": "code",
   "execution_count": 30,
   "metadata": {},
   "outputs": [
    {
     "data": {
      "image/png": "[encoded data removed]",
      "text/plain": [
       "<Figure size 432x288 with 1 Axes>"
      ]
     },
     "metadata": {
      "needs_background": "light"
     },
     "output_type": "display_data"
    }
   ],
   "source": [
    "# check distribution\n",
    "sns.countplot(data=df_train, x='CabinNumInterval', hue='Transported')\n",
    "plt.show()"
   ]
  },
  {
   "cell_type": "code",
   "execution_count": 31,
   "metadata": {},
   "outputs": [],
   "source": [
    "drop_col(['Cabin','CabinNum'])"
   ]
  },
  {
   "cell_type": "markdown",
   "metadata": {},
   "source": [
    "## `Name`"
   ]
  },
  {
   "cell_type": "code",
   "execution_count": 32,
   "metadata": {},
   "outputs": [],
   "source": [
    "# fill nan values for processing\n",
    "df_train['Name'].fillna('nan nan', inplace=True)\n",
    "df_test['Name'].fillna('nan nan', inplace=True)\n",
    "\n",
    "# extract family name information\n",
    "df_train['FamilyName'] = df_train['Name'].apply(lambda x: x.split(' ')[1])\n",
    "df_test['FamilyName'] = df_test['Name'].apply(lambda x: x.split(' ')[1])"
   ]
  },
  {
   "cell_type": "code",
   "execution_count": 33,
   "metadata": {},
   "outputs": [
    {
     "data": {
      "text/plain": [
       "nan           200\n",
       "Casonston      18\n",
       "Oneiles        16\n",
       "Domington      15\n",
       "Litthews       15\n",
       "             ... \n",
       "Covale          1\n",
       "Dun             1\n",
       "Witalnerod      1\n",
       "Deryplinet      1\n",
       "Sionerorly      1\n",
       "Name: FamilyName, Length: 2218, dtype: int64"
      ]
     },
     "execution_count": 33,
     "metadata": {},
     "output_type": "execute_result"
    }
   ],
   "source": [
    "# Number of unique values in FamilyName\n",
    "df_train['FamilyName'].value_counts()"
   ]
  },
  {
   "cell_type": "markdown",
   "metadata": {},
   "source": [
    "Obviously this cannot be used as a feature for the model.\n",
    "\n",
    "We can create another feature representing how many people in the same family are on the spaceship. (that's the size of the family for each passenger)\n",
    "\n",
    "Maybe passengers with a larger family have higher probability to be transported."
   ]
  },
  {
   "cell_type": "code",
   "execution_count": 34,
   "metadata": {},
   "outputs": [],
   "source": [
    "# count number of people in each family\n",
    "familysize = pd.concat([df_train, df_test])['FamilyName'].value_counts()\n",
    "\n",
    "# fill in the family sizes\n",
    "df_train['FamilySize'] = df_train['FamilyName'].apply(lambda x: familysize[x])\n",
    "df_test['FamilySize'] = df_test['FamilyName'].apply(lambda x: familysize[x])"
   ]
  },
  {
   "cell_type": "code",
   "execution_count": 35,
   "metadata": {},
   "outputs": [
    {
     "data": {
      "text/plain": [
       "6      1009\n",
       "5       979\n",
       "7       974\n",
       "4       805\n",
       "9       763\n",
       "8       753\n",
       "3       616\n",
       "10      583\n",
       "11      441\n",
       "2       425\n",
       "12      344\n",
       "14      208\n",
       "294     200\n",
       "13      165\n",
       "1       133\n",
       "15       98\n",
       "16       94\n",
       "18       43\n",
       "17       38\n",
       "19       22\n",
       "Name: FamilySize, dtype: int64"
      ]
     },
     "execution_count": 35,
     "metadata": {},
     "output_type": "execute_result"
    }
   ],
   "source": [
    "# check unique family size values\n",
    "df_train['FamilySize'].value_counts()"
   ]
  },
  {
   "cell_type": "markdown",
   "metadata": {},
   "source": [
    "There is a size of 294 which is the place for 'nan' (missing value)."
   ]
  },
  {
   "cell_type": "code",
   "execution_count": 36,
   "metadata": {},
   "outputs": [],
   "source": [
    "# retrieve the missing value\n",
    "df_train.loc[df_train['FamilySize'] == 294, 'FamilySize'] = np.nan\n",
    "df_test.loc[df_test['FamilyName'] == 'nan', 'FamilySize'] = np.nan"
   ]
  },
  {
   "cell_type": "code",
   "execution_count": 37,
   "metadata": {},
   "outputs": [
    {
     "data": {
      "image/png": "[encoded data removed]",
      "text/plain": [
       "<Figure size 432x288 with 1 Axes>"
      ]
     },
     "metadata": {
      "needs_background": "light"
     },
     "output_type": "display_data"
    }
   ],
   "source": [
    "# visualise the distribution of family size\n",
    "sns.countplot(data=df_train, x='FamilySize', hue='Transported')\n",
    "plt.xticks(ticks=range(19), labels=range(1,20))\n",
    "plt.tight_layout()\n",
    "plt.show()"
   ]
  },
  {
   "cell_type": "code",
   "execution_count": 38,
   "metadata": {},
   "outputs": [],
   "source": [
    "drop_col(['Name', 'FamilyName'])"
   ]
  },
  {
   "cell_type": "markdown",
   "metadata": {},
   "source": [
    "## Amenities"
   ]
  },
  {
   "cell_type": "markdown",
   "metadata": {},
   "source": [
    "We can combine the five amenities to one feature, because many people did not pay for any of these."
   ]
  },
  {
   "cell_type": "code",
   "execution_count": 39,
   "metadata": {},
   "outputs": [],
   "source": [
    "# create a total sepnd column\n",
    "df_train['TotalSpend'] = df_train[num_cols[1:]].sum(axis=1)\n",
    "df_test['TotalSpend'] = df_test[num_cols[1:]].sum(axis=1)"
   ]
  },
  {
   "cell_type": "code",
   "execution_count": 40,
   "metadata": {},
   "outputs": [
    {
     "data": {
      "image/png": "[encoded data removed]",
      "text/plain": [
       "<Figure size 432x288 with 1 Axes>"
      ]
     },
     "metadata": {
      "needs_background": "light"
     },
     "output_type": "display_data"
    }
   ],
   "source": [
    "# inspect the distribution of it\n",
    "sns.histplot(data=df_train, x='TotalSpend', hue='Transported', bins=200)\n",
    "plt.show()"
   ]
  },
  {
   "cell_type": "code",
   "execution_count": 41,
   "metadata": {},
   "outputs": [],
   "source": [
    "# create binary categorical data for pay/not pay for any amenity\n",
    "df_train['SpendOnShip'] = df_train['TotalSpend'] > 0\n",
    "df_test['SpendOnShip'] = df_test['TotalSpend'] > 0"
   ]
  },
  {
   "cell_type": "code",
   "execution_count": 42,
   "metadata": {},
   "outputs": [
    {
     "data": {
      "image/png": "[encoded data removed]",
      "text/plain": [
       "<Figure size 432x288 with 1 Axes>"
      ]
     },
     "metadata": {
      "needs_background": "light"
     },
     "output_type": "display_data"
    }
   ],
   "source": [
    "# visualise the distribution\n",
    "sns.countplot(data=df_train, x='SpendOnShip', hue='Transported')\n",
    "plt.show()"
   ]
  },
  {
   "cell_type": "code",
   "execution_count": 43,
   "metadata": {},
   "outputs": [],
   "source": [
    "drop_col(num_cols[1:]+['TotalSpend'])"
   ]
  },
  {
   "cell_type": "markdown",
   "metadata": {},
   "source": [
    "# Data cleaning"
   ]
  },
  {
   "cell_type": "code",
   "execution_count": 45,
   "metadata": {},
   "outputs": [
    {
     "name": "stdout",
     "output_type": "stream",
     "text": [
      "HomePlanet           object\n",
      "CryoSleep            object\n",
      "Destination          object\n",
      "Age                 float64\n",
      "Transported            bool\n",
      "GroupNo              object\n",
      "OnlyMember             bool\n",
      "CabinDeck            object\n",
      "CabinSide            object\n",
      "CabinNumInterval     object\n",
      "FamilySize          float64\n",
      "SpendOnShip            bool\n",
      "dtype: object \n",
      "\n",
      "HomePlanet           object\n",
      "CryoSleep            object\n",
      "Destination          object\n",
      "Age                 float64\n",
      "GroupNo              object\n",
      "OnlyMember             bool\n",
      "CabinDeck            object\n",
      "CabinSide            object\n",
      "CabinNumInterval     object\n",
      "FamilySize          float64\n",
      "SpendOnShip            bool\n",
      "dtype: object\n"
     ]
    }
   ],
   "source": [
    "# check data types\n",
    "print(df_train.dtypes, '\\n')\n",
    "print(df_test.dtypes)"
   ]
  },
  {
   "cell_type": "markdown",
   "metadata": {},
   "source": [
    "The data type of `GroupNo` is problematic. It should be integer type instead of object."
   ]
  },
  {
   "cell_type": "code",
   "execution_count": 49,
   "metadata": {},
   "outputs": [],
   "source": [
    "# convert the data type to integer\n",
    "df_train['GroupNo'] = df_train['GroupNo'].astype(int)\n",
    "df_test['GroupNo'] = df_test['GroupNo'].astype(int)"
   ]
  },
  {
   "cell_type": "code",
   "execution_count": 51,
   "metadata": {},
   "outputs": [
    {
     "name": "stdout",
     "output_type": "stream",
     "text": [
      "Total number of missing value in the training set is 1576\n",
      "HomePlanet          201\n",
      "CryoSleep           217\n",
      "Destination         182\n",
      "Age                 179\n",
      "Transported           0\n",
      "GroupNo               0\n",
      "OnlyMember            0\n",
      "CabinDeck           199\n",
      "CabinSide           199\n",
      "CabinNumInterval    199\n",
      "FamilySize          200\n",
      "SpendOnShip           0\n",
      "dtype: int64\n",
      "\n",
      "Total number of missing value in the test set is 757\n",
      "HomePlanet           87\n",
      "CryoSleep            93\n",
      "Destination          92\n",
      "Age                  91\n",
      "GroupNo               0\n",
      "OnlyMember            0\n",
      "CabinDeck           100\n",
      "CabinSide           100\n",
      "CabinNumInterval    100\n",
      "FamilySize           94\n",
      "SpendOnShip           0\n",
      "dtype: int64\n"
     ]
    }
   ],
   "source": [
    "# check for missing values (because many new features have been added)\n",
    "# missing values\n",
    "print(\"Total number of missing value in the training set is\", sum(df_train.isna().sum()))\n",
    "print(df_train.isna().sum())\n",
    "\n",
    "print(\"\\nTotal number of missing value in the test set is\", sum(df_test.isna().sum()))\n",
    "print(df_test.isna().sum())"
   ]
  },
  {
   "cell_type": "markdown",
   "metadata": {},
   "source": [
    "The proposed approach is to use median of each column to impute missing values for numerical feature, and to use mode for categorical feature."
   ]
  },
  {
   "cell_type": "code",
   "execution_count": null,
   "metadata": {},
   "outputs": [],
   "source": [
    "# use median to impute missing values (can also use SimpleImputer in skilearn module)\n",
    "num_cols = ['Age', 'FamilySize']\n",
    "for col in num_cols:\n",
    "    df_train[col].fillna(df_train[col].median(), inplace=True)\n",
    "    df_test[col].fillna(df_test[col].median(), inplace=True)"
   ]
  },
  {
   "cell_type": "code",
   "execution_count": null,
   "metadata": {},
   "outputs": [],
   "source": [
    "# number of rows with missing values after the imputation\n",
    "print(\"Number of rows\", df_train[df_train.isna().any(axis=1)].shape[0])\n",
    "\n",
    "# by columns\n",
    "print(\"\\nBy columns\")\n",
    "print(df_train.isna().sum())\n",
    "\n",
    "print(\"\\n\\nNumber of rows\", df_test[df_test.isna().any(axis=1)].shape[0])\n",
    "print(\"\\nBy columns\")\n",
    "print(df_test.isna().sum())"
   ]
  },
  {
   "cell_type": "code",
   "execution_count": null,
   "metadata": {},
   "outputs": [],
   "source": [
    "# use mode to impute missing values for categorical data\n",
    "for col in cat_cols:\n",
    "    df_train[col].fillna(df_train[col].mode()[0], inplace=True)\n",
    "    df_test[col].fillna(df_test[col].mode()[0], inplace=True)"
   ]
  },
  {
   "cell_type": "code",
   "execution_count": null,
   "metadata": {},
   "outputs": [],
   "source": [
    "# number of rows with missing values after the imputation\n",
    "print(\"Number of rows\", df_train[df_train.isna().any(axis=1)].shape[0])\n",
    "print(\"Number of rows\", df_test[df_test.isna().any(axis=1)].shape[0])"
   ]
  },
  {
   "cell_type": "code",
   "execution_count": null,
   "metadata": {},
   "outputs": [],
   "source": [
    "# use LabelEncoder to encode categorical values\n",
    "from sklearn.preprocessing import LabelEncoder\n",
    "\n",
    "le = LabelEncoder()\n",
    "for col in cat_cols:\n",
    "    df_train[col] = df_train[col].astype(str)\n",
    "    df_test[col] = df_test[col].astype(str)\n",
    "    \n",
    "    df_train[col] = le.fit_transform(df_train[col])\n",
    "    df_test[col] = le.fit_transform(df_test[col])"
   ]
  },
  {
   "cell_type": "code",
   "execution_count": null,
   "metadata": {},
   "outputs": [],
   "source": [
    "df_train.dtypes"
   ]
  },
  {
   "cell_type": "code",
   "execution_count": null,
   "metadata": {},
   "outputs": [],
   "source": [
    "df_train[['PassengerId', 'HomePlanet', 'Cabin','Destination','Name']] = df_train[['PassengerId', 'HomePlanet', 'Cabin','Destination','Name']].astype(str)\n",
    "df_train[['CryoSleep', 'VIP']] = df_train[['CryoSleep', 'VIP']].astype(bool)\n",
    "\n",
    "df_train.dtypes"
   ]
  }
 ],
 "metadata": {
  "kernelspec": {
   "display_name": "Python 3.8.10 ('datasci')",
   "language": "python",
   "name": "python3"
  },
  "language_info": {
   "codemirror_mode": {
    "name": "ipython",
    "version": 3
   },
   "file_extension": ".py",
   "mimetype": "text/x-python",
   "name": "python",
   "nbconvert_exporter": "python",
   "pygments_lexer": "ipython3",
   "version": "3.8.13"
  },
  "orig_nbformat": 4,
  "vscode": {
   "interpreter": {
    "hash": "bc05682565a84217459ff34ae32e1ec70ff601e2d500bedcbbcc4fd13876badc"
   }
  }
 },
 "nbformat": 4,
 "nbformat_minor": 2
}
