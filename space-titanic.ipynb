{
 "cells": [
  {
   "cell_type": "code",
   "execution_count": 1,
   "metadata": {
    "pycharm": {
     "name": "#%%\n"
    }
   },
   "outputs": [
    {
     "name": "stderr",
     "output_type": "stream",
     "text": [
      "c:\\Users\\Yulun\\anaconda3\\envs\\lazyp\\lib\\site-packages\\sklearn\\utils\\deprecation.py:143: FutureWarning: The sklearn.utils.testing module is  deprecated in version 0.22 and will be removed in version 0.24. The corresponding classes / functions should instead be imported from sklearn.utils. Anything that cannot be imported from sklearn.utils is now part of the private API.\n",
      "  warnings.warn(message, FutureWarning)\n"
     ]
    }
   ],
   "source": [
    "# !pip install kaggle\n",
    "# !kaggle competitions download -c spaceship-titanic\n",
    "\n",
    "import zipfile\n",
    "\n",
    "import pandas as pd\n",
    "import numpy as np\n",
    "\n",
    "from sklearn.preprocessing import LabelEncoder, StandardScaler\n",
    "from sklearn.model_selection import train_test_split, GridSearchCV, cross_val_score, StratifiedKFold\n",
    "\n",
    "from lazypredict.Supervised import LazyClassifier\n",
    "from lightgbm import LGBMClassifier\n",
    "\n",
    "import matplotlib.pyplot as plt\n",
    "%matplotlib inline\n",
    "\n",
    "import seaborn as sns\n",
    "sns.set_theme(style='darkgrid')\n",
    "\n",
    "import warnings\n",
    "warnings.filterwarnings('ignore')"
   ]
  },
  {
   "cell_type": "code",
   "execution_count": 2,
   "metadata": {
    "pycharm": {
     "name": "#%%\n"
    }
   },
   "outputs": [
    {
     "name": "stdout",
     "output_type": "stream",
     "text": [
      "File Name                                             Modified             Size\n",
      "sample_submission.csv                          2022-02-11 14:02:48        59902\n",
      "test.csv                                       2022-02-11 14:02:48       372487\n",
      "train.csv                                      2022-02-11 14:02:48       805421\n"
     ]
    }
   ],
   "source": [
    "with zipfile.ZipFile('spaceship-titanic.zip') as zipf:\n",
    "    zipf.printdir()\n",
    "    zipf.extractall(path='data/')"
   ]
  },
  {
   "cell_type": "code",
   "execution_count": 3,
   "metadata": {
    "pycharm": {
     "name": "#%%\n"
    }
   },
   "outputs": [
    {
     "name": "stdout",
     "output_type": "stream",
     "text": [
      "(8693, 14) (4277, 13)\n"
     ]
    }
   ],
   "source": [
    "df_train = pd.read_csv('data/train.csv')\n",
    "df_test = pd.read_csv('data/test.csv')\n",
    "\n",
    "print(df_train.shape, df_test.shape)"
   ]
  },
  {
   "cell_type": "markdown",
   "metadata": {
    "pycharm": {
     "name": "#%% md\n"
    }
   },
   "source": [
    "# EDA"
   ]
  },
  {
   "cell_type": "code",
   "execution_count": 4,
   "metadata": {
    "pycharm": {
     "name": "#%%\n"
    }
   },
   "outputs": [
    {
     "name": "stdout",
     "output_type": "stream",
     "text": [
      "0 0\n"
     ]
    }
   ],
   "source": [
    "# check for duplicates\n",
    "print(df_train.duplicated().sum(), df_test.duplicated().sum())"
   ]
  },
  {
   "cell_type": "markdown",
   "metadata": {
    "pycharm": {
     "name": "#%% md\n"
    }
   },
   "source": [
    "No duplicate spotted in the original dataset."
   ]
  },
  {
   "cell_type": "code",
   "execution_count": 5,
   "metadata": {
    "pycharm": {
     "name": "#%%\n"
    }
   },
   "outputs": [
    {
     "data": {
      "text/html": [
       "<div>\n",
       "<style scoped>\n",
       "    .dataframe tbody tr th:only-of-type {\n",
       "        vertical-align: middle;\n",
       "    }\n",
       "\n",
       "    .dataframe tbody tr th {\n",
       "        vertical-align: top;\n",
       "    }\n",
       "\n",
       "    .dataframe thead th {\n",
       "        text-align: right;\n",
       "    }\n",
       "</style>\n",
       "<table border=\"1\" class=\"dataframe\">\n",
       "  <thead>\n",
       "    <tr style=\"text-align: right;\">\n",
       "      <th></th>\n",
       "      <th>PassengerId</th>\n",
       "      <th>HomePlanet</th>\n",
       "      <th>CryoSleep</th>\n",
       "      <th>Cabin</th>\n",
       "      <th>Destination</th>\n",
       "      <th>Age</th>\n",
       "      <th>VIP</th>\n",
       "      <th>RoomService</th>\n",
       "      <th>FoodCourt</th>\n",
       "      <th>ShoppingMall</th>\n",
       "      <th>Spa</th>\n",
       "      <th>VRDeck</th>\n",
       "      <th>Name</th>\n",
       "      <th>Transported</th>\n",
       "    </tr>\n",
       "  </thead>\n",
       "  <tbody>\n",
       "    <tr>\n",
       "      <th>0</th>\n",
       "      <td>0001_01</td>\n",
       "      <td>Europa</td>\n",
       "      <td>False</td>\n",
       "      <td>B/0/P</td>\n",
       "      <td>TRAPPIST-1e</td>\n",
       "      <td>39.00</td>\n",
       "      <td>False</td>\n",
       "      <td>0.00</td>\n",
       "      <td>0.00</td>\n",
       "      <td>0.00</td>\n",
       "      <td>0.00</td>\n",
       "      <td>0.00</td>\n",
       "      <td>Maham Ofracculy</td>\n",
       "      <td>False</td>\n",
       "    </tr>\n",
       "    <tr>\n",
       "      <th>1</th>\n",
       "      <td>0002_01</td>\n",
       "      <td>Earth</td>\n",
       "      <td>False</td>\n",
       "      <td>F/0/S</td>\n",
       "      <td>TRAPPIST-1e</td>\n",
       "      <td>24.00</td>\n",
       "      <td>False</td>\n",
       "      <td>109.00</td>\n",
       "      <td>9.00</td>\n",
       "      <td>25.00</td>\n",
       "      <td>549.00</td>\n",
       "      <td>44.00</td>\n",
       "      <td>Juanna Vines</td>\n",
       "      <td>True</td>\n",
       "    </tr>\n",
       "    <tr>\n",
       "      <th>2</th>\n",
       "      <td>0003_01</td>\n",
       "      <td>Europa</td>\n",
       "      <td>False</td>\n",
       "      <td>A/0/S</td>\n",
       "      <td>TRAPPIST-1e</td>\n",
       "      <td>58.00</td>\n",
       "      <td>True</td>\n",
       "      <td>43.00</td>\n",
       "      <td>3576.00</td>\n",
       "      <td>0.00</td>\n",
       "      <td>6715.00</td>\n",
       "      <td>49.00</td>\n",
       "      <td>Altark Susent</td>\n",
       "      <td>False</td>\n",
       "    </tr>\n",
       "    <tr>\n",
       "      <th>3</th>\n",
       "      <td>0003_02</td>\n",
       "      <td>Europa</td>\n",
       "      <td>False</td>\n",
       "      <td>A/0/S</td>\n",
       "      <td>TRAPPIST-1e</td>\n",
       "      <td>33.00</td>\n",
       "      <td>False</td>\n",
       "      <td>0.00</td>\n",
       "      <td>1283.00</td>\n",
       "      <td>371.00</td>\n",
       "      <td>3329.00</td>\n",
       "      <td>193.00</td>\n",
       "      <td>Solam Susent</td>\n",
       "      <td>False</td>\n",
       "    </tr>\n",
       "    <tr>\n",
       "      <th>4</th>\n",
       "      <td>0004_01</td>\n",
       "      <td>Earth</td>\n",
       "      <td>False</td>\n",
       "      <td>F/1/S</td>\n",
       "      <td>TRAPPIST-1e</td>\n",
       "      <td>16.00</td>\n",
       "      <td>False</td>\n",
       "      <td>303.00</td>\n",
       "      <td>70.00</td>\n",
       "      <td>151.00</td>\n",
       "      <td>565.00</td>\n",
       "      <td>2.00</td>\n",
       "      <td>Willy Santantines</td>\n",
       "      <td>True</td>\n",
       "    </tr>\n",
       "    <tr>\n",
       "      <th>0</th>\n",
       "      <td>0013_01</td>\n",
       "      <td>Earth</td>\n",
       "      <td>True</td>\n",
       "      <td>G/3/S</td>\n",
       "      <td>TRAPPIST-1e</td>\n",
       "      <td>27.00</td>\n",
       "      <td>False</td>\n",
       "      <td>0.00</td>\n",
       "      <td>0.00</td>\n",
       "      <td>0.00</td>\n",
       "      <td>0.00</td>\n",
       "      <td>0.00</td>\n",
       "      <td>Nelly Carsoning</td>\n",
       "      <td>NaN</td>\n",
       "    </tr>\n",
       "    <tr>\n",
       "      <th>1</th>\n",
       "      <td>0018_01</td>\n",
       "      <td>Earth</td>\n",
       "      <td>False</td>\n",
       "      <td>F/4/S</td>\n",
       "      <td>TRAPPIST-1e</td>\n",
       "      <td>19.00</td>\n",
       "      <td>False</td>\n",
       "      <td>0.00</td>\n",
       "      <td>9.00</td>\n",
       "      <td>0.00</td>\n",
       "      <td>2823.00</td>\n",
       "      <td>0.00</td>\n",
       "      <td>Lerome Peckers</td>\n",
       "      <td>NaN</td>\n",
       "    </tr>\n",
       "    <tr>\n",
       "      <th>2</th>\n",
       "      <td>0019_01</td>\n",
       "      <td>Europa</td>\n",
       "      <td>True</td>\n",
       "      <td>C/0/S</td>\n",
       "      <td>55 Cancri e</td>\n",
       "      <td>31.00</td>\n",
       "      <td>False</td>\n",
       "      <td>0.00</td>\n",
       "      <td>0.00</td>\n",
       "      <td>0.00</td>\n",
       "      <td>0.00</td>\n",
       "      <td>0.00</td>\n",
       "      <td>Sabih Unhearfus</td>\n",
       "      <td>NaN</td>\n",
       "    </tr>\n",
       "    <tr>\n",
       "      <th>3</th>\n",
       "      <td>0021_01</td>\n",
       "      <td>Europa</td>\n",
       "      <td>False</td>\n",
       "      <td>C/1/S</td>\n",
       "      <td>TRAPPIST-1e</td>\n",
       "      <td>38.00</td>\n",
       "      <td>False</td>\n",
       "      <td>0.00</td>\n",
       "      <td>6652.00</td>\n",
       "      <td>0.00</td>\n",
       "      <td>181.00</td>\n",
       "      <td>585.00</td>\n",
       "      <td>Meratz Caltilter</td>\n",
       "      <td>NaN</td>\n",
       "    </tr>\n",
       "    <tr>\n",
       "      <th>4</th>\n",
       "      <td>0023_01</td>\n",
       "      <td>Earth</td>\n",
       "      <td>False</td>\n",
       "      <td>F/5/S</td>\n",
       "      <td>TRAPPIST-1e</td>\n",
       "      <td>20.00</td>\n",
       "      <td>False</td>\n",
       "      <td>10.00</td>\n",
       "      <td>0.00</td>\n",
       "      <td>635.00</td>\n",
       "      <td>0.00</td>\n",
       "      <td>0.00</td>\n",
       "      <td>Brence Harperez</td>\n",
       "      <td>NaN</td>\n",
       "    </tr>\n",
       "  </tbody>\n",
       "</table>\n",
       "</div>"
      ],
      "text/plain": [
       "  PassengerId HomePlanet CryoSleep  Cabin  Destination   Age    VIP  \\\n",
       "0     0001_01     Europa     False  B/0/P  TRAPPIST-1e 39.00  False   \n",
       "1     0002_01      Earth     False  F/0/S  TRAPPIST-1e 24.00  False   \n",
       "2     0003_01     Europa     False  A/0/S  TRAPPIST-1e 58.00   True   \n",
       "3     0003_02     Europa     False  A/0/S  TRAPPIST-1e 33.00  False   \n",
       "4     0004_01      Earth     False  F/1/S  TRAPPIST-1e 16.00  False   \n",
       "0     0013_01      Earth      True  G/3/S  TRAPPIST-1e 27.00  False   \n",
       "1     0018_01      Earth     False  F/4/S  TRAPPIST-1e 19.00  False   \n",
       "2     0019_01     Europa      True  C/0/S  55 Cancri e 31.00  False   \n",
       "3     0021_01     Europa     False  C/1/S  TRAPPIST-1e 38.00  False   \n",
       "4     0023_01      Earth     False  F/5/S  TRAPPIST-1e 20.00  False   \n",
       "\n",
       "   RoomService  FoodCourt  ShoppingMall     Spa  VRDeck               Name  \\\n",
       "0         0.00       0.00          0.00    0.00    0.00    Maham Ofracculy   \n",
       "1       109.00       9.00         25.00  549.00   44.00       Juanna Vines   \n",
       "2        43.00    3576.00          0.00 6715.00   49.00      Altark Susent   \n",
       "3         0.00    1283.00        371.00 3329.00  193.00       Solam Susent   \n",
       "4       303.00      70.00        151.00  565.00    2.00  Willy Santantines   \n",
       "0         0.00       0.00          0.00    0.00    0.00    Nelly Carsoning   \n",
       "1         0.00       9.00          0.00 2823.00    0.00     Lerome Peckers   \n",
       "2         0.00       0.00          0.00    0.00    0.00    Sabih Unhearfus   \n",
       "3         0.00    6652.00          0.00  181.00  585.00   Meratz Caltilter   \n",
       "4        10.00       0.00        635.00    0.00    0.00    Brence Harperez   \n",
       "\n",
       "  Transported  \n",
       "0       False  \n",
       "1        True  \n",
       "2       False  \n",
       "3       False  \n",
       "4        True  \n",
       "0         NaN  \n",
       "1         NaN  \n",
       "2         NaN  \n",
       "3         NaN  \n",
       "4         NaN  "
      ]
     },
     "execution_count": 5,
     "metadata": {},
     "output_type": "execute_result"
    }
   ],
   "source": [
    "# take a peek at the training and test sets\n",
    "pd.concat([df_train.head(5), df_test.head(5)])"
   ]
  },
  {
   "cell_type": "markdown",
   "metadata": {
    "pycharm": {
     "name": "#%% md\n"
    }
   },
   "source": [
    "---\n",
    "`PassengerId` - A unique Id for each passenger. Each Id takes the form gggg_pp where gggg indicates a group the passenger is travelling with and pp is their number within the group. People in a group are often family members, but not always.\n",
    "\n",
    "`HomePlanet` - The planet the passenger departed from, typically their planet of permanent residence.\n",
    "\n",
    "`CryoSleep` - Indicates whether the passenger elected to be put into suspended animation for the duration of the voyage. Passengers in cryosleep are confined to their cabins.\n",
    "\n",
    "`Cabin` - The cabin number where the passenger is staying. Takes the form deck/num/side, where side can be either P for Port or S for Starboard.\n",
    "\n",
    "`Destination` - The planet the passenger will be debarking to.\n",
    "\n",
    "`Age` - The age of the passenger.\n",
    "\n",
    "`VIP` - Whether the passenger has paid for special VIP service during the voyage.\n",
    "\n",
    "`RoomService`, `FoodCourt`, `ShoppingMall`, `Spa`, `VRDeck` - Amount the passenger has billed at each of the Spaceship Titanic's many luxury amenities.\n",
    "\n",
    "`Name` - The first and last names of the passenger.\n",
    "\n",
    "`Transported` - Whether the passenger was transported to another dimension. This is the target, the column you are trying to predict.\n",
    "\n",
    "---"
   ]
  },
  {
   "cell_type": "markdown",
   "metadata": {
    "pycharm": {
     "name": "#%% md\n"
    }
   },
   "source": [
    "Features that can be extracted from the given data:\n",
    "- group information -- `PassengerId`\n",
    "- deck, num and side -- `Cabin`\n",
    "- family -- `Name`"
   ]
  },
  {
   "cell_type": "code",
   "execution_count": 6,
   "metadata": {
    "pycharm": {
     "name": "#%%\n"
    }
   },
   "outputs": [
    {
     "data": {
      "image/png": "[encoded data removed]",
      "text/plain": [
       "<Figure size 576x864 with 6 Axes>"
      ]
     },
     "metadata": {},
     "output_type": "display_data"
    }
   ],
   "source": [
    "# columns of numerical features\n",
    "num_cols = ['Age', 'RoomService', 'FoodCourt', 'ShoppingMall', 'Spa', 'VRDeck']\n",
    "\n",
    "# visualise the relationship between the numerical features and the target\n",
    "fig, axs = plt.subplots(3, 2, figsize=(8,12))\n",
    "\n",
    "for i, col in enumerate(num_cols):\n",
    "    ax = axs[i//2][i%2]\n",
    "    sns.histplot(data=df_train, x=col, hue='Transported', bins=25, ax=ax)\n",
    "    ax.set_xlabel('')\n",
    "    ax.set_ylabel('')\n",
    "    ax.set_title(col, fontsize=14)\n",
    "\n",
    "plt.tight_layout()\n",
    "plt.show()"
   ]
  },
  {
   "cell_type": "markdown",
   "metadata": {
    "pycharm": {
     "name": "#%% md\n"
    }
   },
   "source": [
    "The distribution of the data for the five amenities were very similar. Most people do not purchase the amenities.\n",
    "\n",
    "Maybe a feature representing total spend on all amenities or suggesting whether a person purchase at any amenity can be added."
   ]
  },
  {
   "cell_type": "code",
   "execution_count": 7,
   "metadata": {
    "pycharm": {
     "name": "#%%\n"
    }
   },
   "outputs": [
    {
     "data": {
      "text/html": [
       "<div>\n",
       "<style scoped>\n",
       "    .dataframe tbody tr th:only-of-type {\n",
       "        vertical-align: middle;\n",
       "    }\n",
       "\n",
       "    .dataframe tbody tr th {\n",
       "        vertical-align: top;\n",
       "    }\n",
       "\n",
       "    .dataframe thead th {\n",
       "        text-align: right;\n",
       "    }\n",
       "</style>\n",
       "<table border=\"1\" class=\"dataframe\">\n",
       "  <thead>\n",
       "    <tr style=\"text-align: right;\">\n",
       "      <th></th>\n",
       "      <th>RoomService</th>\n",
       "      <th>FoodCourt</th>\n",
       "      <th>ShoppingMall</th>\n",
       "      <th>Spa</th>\n",
       "      <th>VRDeck</th>\n",
       "    </tr>\n",
       "  </thead>\n",
       "  <tbody>\n",
       "    <tr>\n",
       "      <th>0</th>\n",
       "      <td>0.00</td>\n",
       "      <td>0.00</td>\n",
       "      <td>0.00</td>\n",
       "      <td>0.00</td>\n",
       "      <td>0.00</td>\n",
       "    </tr>\n",
       "    <tr>\n",
       "      <th>9</th>\n",
       "      <td>0.00</td>\n",
       "      <td>0.00</td>\n",
       "      <td>0.00</td>\n",
       "      <td>0.00</td>\n",
       "      <td>0.00</td>\n",
       "    </tr>\n",
       "    <tr>\n",
       "      <th>18</th>\n",
       "      <td>0.00</td>\n",
       "      <td>0.00</td>\n",
       "      <td>0.00</td>\n",
       "      <td>0.00</td>\n",
       "      <td>0.00</td>\n",
       "    </tr>\n",
       "    <tr>\n",
       "      <th>19</th>\n",
       "      <td>0.00</td>\n",
       "      <td>0.00</td>\n",
       "      <td>0.00</td>\n",
       "      <td>0.00</td>\n",
       "      <td>0.00</td>\n",
       "    </tr>\n",
       "    <tr>\n",
       "      <th>21</th>\n",
       "      <td>0.00</td>\n",
       "      <td>0.00</td>\n",
       "      <td>0.00</td>\n",
       "      <td>0.00</td>\n",
       "      <td>0.00</td>\n",
       "    </tr>\n",
       "    <tr>\n",
       "      <th>...</th>\n",
       "      <td>...</td>\n",
       "      <td>...</td>\n",
       "      <td>...</td>\n",
       "      <td>...</td>\n",
       "      <td>...</td>\n",
       "    </tr>\n",
       "    <tr>\n",
       "      <th>8680</th>\n",
       "      <td>0.00</td>\n",
       "      <td>0.00</td>\n",
       "      <td>0.00</td>\n",
       "      <td>0.00</td>\n",
       "      <td>0.00</td>\n",
       "    </tr>\n",
       "    <tr>\n",
       "      <th>8681</th>\n",
       "      <td>0.00</td>\n",
       "      <td>0.00</td>\n",
       "      <td>0.00</td>\n",
       "      <td>0.00</td>\n",
       "      <td>0.00</td>\n",
       "    </tr>\n",
       "    <tr>\n",
       "      <th>8684</th>\n",
       "      <td>0.00</td>\n",
       "      <td>0.00</td>\n",
       "      <td>0.00</td>\n",
       "      <td>0.00</td>\n",
       "      <td>0.00</td>\n",
       "    </tr>\n",
       "    <tr>\n",
       "      <th>8685</th>\n",
       "      <td>0.00</td>\n",
       "      <td>0.00</td>\n",
       "      <td>0.00</td>\n",
       "      <td>0.00</td>\n",
       "      <td>0.00</td>\n",
       "    </tr>\n",
       "    <tr>\n",
       "      <th>8689</th>\n",
       "      <td>0.00</td>\n",
       "      <td>0.00</td>\n",
       "      <td>0.00</td>\n",
       "      <td>0.00</td>\n",
       "      <td>0.00</td>\n",
       "    </tr>\n",
       "  </tbody>\n",
       "</table>\n",
       "<p>3247 rows × 5 columns</p>\n",
       "</div>"
      ],
      "text/plain": [
       "      RoomService  FoodCourt  ShoppingMall  Spa  VRDeck\n",
       "0            0.00       0.00          0.00 0.00    0.00\n",
       "9            0.00       0.00          0.00 0.00    0.00\n",
       "18           0.00       0.00          0.00 0.00    0.00\n",
       "19           0.00       0.00          0.00 0.00    0.00\n",
       "21           0.00       0.00          0.00 0.00    0.00\n",
       "...           ...        ...           ...  ...     ...\n",
       "8680         0.00       0.00          0.00 0.00    0.00\n",
       "8681         0.00       0.00          0.00 0.00    0.00\n",
       "8684         0.00       0.00          0.00 0.00    0.00\n",
       "8685         0.00       0.00          0.00 0.00    0.00\n",
       "8689         0.00       0.00          0.00 0.00    0.00\n",
       "\n",
       "[3247 rows x 5 columns]"
      ]
     },
     "execution_count": 7,
     "metadata": {},
     "output_type": "execute_result"
    }
   ],
   "source": [
    "# taking a closer look at the five amenities\n",
    "df_train[num_cols[1:]].loc[(df_train[num_cols[1:]]==0).all(axis=1)]"
   ]
  },
  {
   "cell_type": "markdown",
   "metadata": {
    "pycharm": {
     "name": "#%% md\n"
    }
   },
   "source": [
    "Nearly half of the passengers did not purchase any of the amenity.\n",
    "\n",
    "We can add a categorical feature representing whether a passenger spend money on any amenity."
   ]
  },
  {
   "cell_type": "code",
   "execution_count": 8,
   "metadata": {
    "pycharm": {
     "name": "#%%\n"
    }
   },
   "outputs": [
    {
     "data": {
      "image/png": "[encoded data removed]",
      "text/plain": [
       "<Figure size 576x1296 with 4 Axes>"
      ]
     },
     "metadata": {},
     "output_type": "display_data"
    }
   ],
   "source": [
    "# columns of categorical features\n",
    "cat_cols = ['HomePlanet', 'CryoSleep', 'Destination', 'VIP']\n",
    "\n",
    "fig, axs = plt.subplots(4, 1, figsize=(8,18))\n",
    "\n",
    "for i, col in enumerate(cat_cols):\n",
    "    ax = axs[i]\n",
    "    sns.countplot(data=df_train, x=col, hue='Transported', ax=ax)\n",
    "    ax.set_xlabel('')\n",
    "    ax.set_ylabel('')\n",
    "    ax.set_title(col, fontsize=14)\n",
    "\n",
    "plt.tight_layout()\n",
    "plt.show()"
   ]
  },
  {
   "cell_type": "markdown",
   "metadata": {
    "pycharm": {
     "name": "#%% md\n"
    }
   },
   "source": [
    "The `VIP` feature seems to have little relationship with the target, and most people are not VIPs.\n",
    "\n",
    "Maybe removing it would be better."
   ]
  },
  {
   "cell_type": "code",
   "execution_count": 9,
   "metadata": {
    "pycharm": {
     "name": "#%%\n"
    }
   },
   "outputs": [],
   "source": [
    "# define a function to drop columns (making it easier for later stages)\n",
    "\n",
    "def drop_col(cols):\n",
    "    df_train.drop(cols, axis=1, inplace=True)\n",
    "    df_test.drop(cols, axis=1, inplace=True)"
   ]
  },
  {
   "cell_type": "code",
   "execution_count": 10,
   "metadata": {
    "pycharm": {
     "name": "#%%\n"
    }
   },
   "outputs": [],
   "source": [
    "# drop the VIP column\n",
    "drop_col('VIP')\n",
    "\n",
    "# and remove it from the cat_cols list\n",
    "cat_cols.remove('VIP')"
   ]
  },
  {
   "cell_type": "code",
   "execution_count": 11,
   "metadata": {
    "pycharm": {
     "name": "#%%\n"
    }
   },
   "outputs": [
    {
     "data": {
      "text/plain": [
       "True    0.50\n",
       "False   0.50\n",
       "Name: Transported, dtype: float64"
      ]
     },
     "execution_count": 11,
     "metadata": {},
     "output_type": "execute_result"
    }
   ],
   "source": [
    "# explore the distribution of the target\n",
    "df_train['Transported'].value_counts()/df_train.shape[0]"
   ]
  },
  {
   "cell_type": "code",
   "execution_count": 12,
   "metadata": {
    "pycharm": {
     "name": "#%%\n"
    }
   },
   "outputs": [
    {
     "data": {
      "text/plain": [
       "PassengerId      object\n",
       "HomePlanet       object\n",
       "CryoSleep        object\n",
       "Cabin            object\n",
       "Destination      object\n",
       "Age             float64\n",
       "RoomService     float64\n",
       "FoodCourt       float64\n",
       "ShoppingMall    float64\n",
       "Spa             float64\n",
       "VRDeck          float64\n",
       "Name             object\n",
       "Transported        bool\n",
       "dtype: object"
      ]
     },
     "execution_count": 12,
     "metadata": {},
     "output_type": "execute_result"
    }
   ],
   "source": [
    "# inspect data types of all columns\n",
    "df_train.dtypes"
   ]
  },
  {
   "cell_type": "markdown",
   "metadata": {
    "pycharm": {
     "name": "#%% md\n"
    }
   },
   "source": [
    "Some columns have problematic data types. We need to take care of them later."
   ]
  },
  {
   "cell_type": "code",
   "execution_count": 13,
   "metadata": {
    "pycharm": {
     "name": "#%%\n"
    }
   },
   "outputs": [
    {
     "name": "stdout",
     "output_type": "stream",
     "text": [
      "Total number of missing value in the training set is 2121\n",
      "PassengerId       0\n",
      "HomePlanet      201\n",
      "CryoSleep       217\n",
      "Cabin           199\n",
      "Destination     182\n",
      "Age             179\n",
      "RoomService     181\n",
      "FoodCourt       183\n",
      "ShoppingMall    208\n",
      "Spa             183\n",
      "VRDeck          188\n",
      "Name            200\n",
      "Transported       0\n",
      "dtype: int64\n",
      "\n",
      "Total number of missing value in the test set is 1024\n",
      "PassengerId       0\n",
      "HomePlanet       87\n",
      "CryoSleep        93\n",
      "Cabin           100\n",
      "Destination      92\n",
      "Age              91\n",
      "RoomService      82\n",
      "FoodCourt       106\n",
      "ShoppingMall     98\n",
      "Spa             101\n",
      "VRDeck           80\n",
      "Name             94\n",
      "dtype: int64\n"
     ]
    }
   ],
   "source": [
    "# missing values\n",
    "print(\"Total number of missing value in the training set is\", sum(df_train.isna().sum()))\n",
    "print(df_train.isna().sum())\n",
    "\n",
    "print(\"\\nTotal number of missing value in the test set is\", sum(df_test.isna().sum()))\n",
    "print(df_test.isna().sum())"
   ]
  },
  {
   "cell_type": "code",
   "execution_count": 14,
   "metadata": {
    "pycharm": {
     "name": "#%%\n"
    }
   },
   "outputs": [
    {
     "data": {
      "image/png": "[encoded data removed]",
      "text/plain": [
       "<Figure size 432x864 with 2 Axes>"
      ]
     },
     "metadata": {},
     "output_type": "display_data"
    }
   ],
   "source": [
    "# visualise the count of missing value for each column\n",
    "fig, (ax1, ax2) = plt.subplots(2, 1, figsize=(6,12))\n",
    "\n",
    "sns.barplot(x=df_train.isna().sum().values, y=df_train.columns, ax=ax1)\n",
    "sns.barplot(x=df_test.isna().sum().values, y=df_test.columns, ax=ax2)\n",
    "\n",
    "ax1.set_title('missing value counts for training set')\n",
    "ax2.set_title('missing value counts for test set')\n",
    "\n",
    "plt.tight_layout()\n",
    "plt.show()"
   ]
  },
  {
   "cell_type": "code",
   "execution_count": 15,
   "metadata": {
    "pycharm": {
     "name": "#%%\n"
    }
   },
   "outputs": [
    {
     "name": "stdout",
     "output_type": "stream",
     "text": [
      "There are 1922 (22.11%) rows in the training set that have at least one missing value\n",
      "There are 925 (21.63%) rows in the test set that have at least one missing value\n"
     ]
    }
   ],
   "source": [
    "# number of rows with at least one missing value\n",
    "na_train = df_train[df_train.isna().any(axis=1)].shape[0]\n",
    "na_test = df_test[df_test.isna().any(axis=1)].shape[0]\n",
    "\n",
    "print(f\"There are {na_train} ({(na_train / df_train.shape[0] * 100):.2f}%) rows in the training set that have at least one missing value\")\n",
    "print(f\"There are {na_test} ({(na_test / df_test.shape[0] * 100):.2f}%) rows in the test set that have at least one missing value\")"
   ]
  },
  {
   "cell_type": "markdown",
   "metadata": {
    "pycharm": {
     "name": "#%% md\n"
    }
   },
   "source": [
    "The missing data is quite spread out in all columns and rows.\n",
    "\n",
    "We need to take care of them according to the data type of each feature. (We will do it later)"
   ]
  },
  {
   "cell_type": "markdown",
   "metadata": {
    "pycharm": {
     "name": "#%% md\n"
    }
   },
   "source": [
    "# Feature Engineering (creating new features based on existing ones)"
   ]
  },
  {
   "cell_type": "markdown",
   "metadata": {
    "pycharm": {
     "name": "#%% md\n"
    }
   },
   "source": [
    "### PassengerId"
   ]
  },
  {
   "cell_type": "markdown",
   "metadata": {},
   "source": [
    "There is no missing value in the `PassengerId` column, so we can perform feature engineering without any preprocessing."
   ]
  },
  {
   "cell_type": "code",
   "execution_count": 16,
   "metadata": {
    "pycharm": {
     "name": "#%%\n"
    }
   },
   "outputs": [],
   "source": [
    "# extract group information from PassengerId\n",
    "\n",
    "df_train['GroupId'] = df_train['PassengerId'].apply(lambda x: x[:4])\n",
    "df_train['GroupNo'] = df_train['PassengerId'].apply(lambda x: x[5:])\n",
    "\n",
    "df_test['GroupId'] = df_test['PassengerId'].apply(lambda x: x[:4])\n",
    "df_test['GroupNo'] = df_test['PassengerId'].apply(lambda x: x[5:])"
   ]
  },
  {
   "cell_type": "code",
   "execution_count": 17,
   "metadata": {
    "pycharm": {
     "name": "#%%\n"
    }
   },
   "outputs": [
    {
     "data": {
      "image/png": "[encoded data removed]",
      "text/plain": [
       "<Figure size 432x288 with 1 Axes>"
      ]
     },
     "metadata": {},
     "output_type": "display_data"
    }
   ],
   "source": [
    "# number of transported passenger in each group\n",
    "df_train.astype({'Transported': int}).groupby('GroupId').sum()['Transported'].plot()\n",
    "plt.show()"
   ]
  },
  {
   "cell_type": "code",
   "execution_count": 18,
   "metadata": {
    "pycharm": {
     "name": "#%%\n"
    }
   },
   "outputs": [
    {
     "data": {
      "image/png": "[encoded data removed]",
      "text/plain": [
       "<Figure size 432x288 with 1 Axes>"
      ]
     },
     "metadata": {},
     "output_type": "display_data"
    }
   ],
   "source": [
    "# for each group number\n",
    "sns.countplot(data=df_train, x='GroupNo', hue='Transported')\n",
    "plt.show()"
   ]
  },
  {
   "cell_type": "markdown",
   "metadata": {
    "pycharm": {
     "name": "#%% md\n"
    }
   },
   "source": [
    "The groupid feature can hardly be used for any model, because there are too many unique categories.\n",
    "\n",
    "There is a way to compute it to make use of the group id information. We can know which group each passenger is in and we can also know how many passengers there are in each group. Hence we can create a new feature representing the size of the group a given passenger is in."
   ]
  },
  {
   "cell_type": "code",
   "execution_count": 19,
   "metadata": {
    "pycharm": {
     "name": "#%%\n"
    }
   },
   "outputs": [],
   "source": [
    "# generate a new dataframe containing sizes for all groups\n",
    "groupsize = pd.concat([df_train['GroupId'], df_test['GroupId']]).value_counts()\n",
    "\n",
    "# add a new column to represent group size\n",
    "df_train['GroupSize'] = df_train['GroupId'].apply(lambda x: groupsize[x])\n",
    "df_test['GroupSize'] = df_test['GroupId'].apply(lambda x: groupsize[x])"
   ]
  },
  {
   "cell_type": "code",
   "execution_count": 20,
   "metadata": {
    "pycharm": {
     "name": "#%%\n"
    }
   },
   "outputs": [
    {
     "data": {
      "image/png": "[encoded data removed]",
      "text/plain": [
       "<Figure size 432x288 with 1 Axes>"
      ]
     },
     "metadata": {},
     "output_type": "display_data"
    }
   ],
   "source": [
    "# visualise the distribution of group size data\n",
    "sns.countplot(data=df_train, x='GroupSize', hue='Transported')\n",
    "plt.show()"
   ]
  },
  {
   "cell_type": "markdown",
   "metadata": {
    "pycharm": {
     "name": "#%% md\n"
    }
   },
   "source": [
    "It seems that there are much more passengers in groups with size 1.\n",
    "\n",
    "Hence we can create a binary categorical feature representing if a passenger is the only member in his/her group."
   ]
  },
  {
   "cell_type": "code",
   "execution_count": 21,
   "metadata": {
    "pycharm": {
     "name": "#%%\n"
    }
   },
   "outputs": [
    {
     "data": {
      "image/png": "[encoded data removed]",
      "text/plain": [
       "<Figure size 432x288 with 1 Axes>"
      ]
     },
     "metadata": {},
     "output_type": "display_data"
    }
   ],
   "source": [
    "# add binary category for repersenting if a passenger is the only member in a group\n",
    "df_train['OnlyMember'] = df_train['GroupSize'] == 1\n",
    "df_test['OnlyMember'] = df_test['GroupSize'] == 1\n",
    "\n",
    "# visualise its distribution\n",
    "sns.countplot(data=df_train, x='OnlyMember', hue='Transported')\n",
    "plt.show()"
   ]
  },
  {
   "cell_type": "code",
   "execution_count": 22,
   "metadata": {
    "pycharm": {
     "name": "#%%\n"
    }
   },
   "outputs": [],
   "source": [
    "# discard unnecessary columns\n",
    "drop_col(['PassengerId', 'GroupId'])"
   ]
  },
  {
   "cell_type": "markdown",
   "metadata": {
    "pycharm": {
     "name": "#%% md\n"
    }
   },
   "source": [
    "### Cabin"
   ]
  },
  {
   "cell_type": "code",
   "execution_count": 23,
   "metadata": {
    "pycharm": {
     "name": "#%%\n"
    }
   },
   "outputs": [],
   "source": [
    "# temporarily fill the missing values for processing\n",
    "df_train['Cabin'].fillna('#/#/#', inplace=True)\n",
    "df_test['Cabin'].fillna('#/#/#', inplace=True)\n",
    "\n",
    "# extract deck, num and side from Cabin\n",
    "df_train['CabinDeck'] = df_train['Cabin'].apply(lambda x: x.split('/')[0])\n",
    "df_train['CabinNum'] = df_train['Cabin'].apply(lambda x: x.split('/')[1])\n",
    "df_train['CabinSide'] = df_train['Cabin'].apply(lambda x: x.split('/')[2])\n",
    "\n",
    "df_test['CabinDeck'] = df_test['Cabin'].apply(lambda x: x.split('/')[0])\n",
    "df_test['CabinNum'] = df_test['Cabin'].apply(lambda x: x.split('/')[1])\n",
    "df_test['CabinSide'] = df_test['Cabin'].apply(lambda x: x.split('/')[2])"
   ]
  },
  {
   "cell_type": "code",
   "execution_count": 24,
   "metadata": {
    "pycharm": {
     "name": "#%%\n"
    }
   },
   "outputs": [],
   "source": [
    "# retrieve the missing values\n",
    "for col in ['CabinDeck', 'CabinNum', 'CabinSide']:\n",
    "    df_train.loc[df_train[col] == '#', col] = np.nan\n",
    "    df_test.loc[df_test[col] == '#', col] = np.nan"
   ]
  },
  {
   "cell_type": "code",
   "execution_count": 25,
   "metadata": {
    "pycharm": {
     "name": "#%%\n"
    }
   },
   "outputs": [
    {
     "data": {
      "text/plain": [
       "CabinDeck    object\n",
       "CabinNum     object\n",
       "CabinSide    object\n",
       "dtype: object"
      ]
     },
     "execution_count": 25,
     "metadata": {},
     "output_type": "execute_result"
    }
   ],
   "source": [
    "# check data types\n",
    "df_train[['CabinDeck', 'CabinNum', 'CabinSide']].dtypes"
   ]
  },
  {
   "cell_type": "markdown",
   "metadata": {
    "pycharm": {
     "name": "#%% md\n"
    }
   },
   "source": [
    "Cabin number data type is problematic."
   ]
  },
  {
   "cell_type": "code",
   "execution_count": 26,
   "metadata": {
    "pycharm": {
     "name": "#%%\n"
    }
   },
   "outputs": [],
   "source": [
    "# set correct data type (Num has to be float because np.nan cannot be convert to integer type)\n",
    "# we will deal with the missing values later\n",
    "df_train['CabinNum'] = df_train['CabinNum'].astype(float)\n",
    "df_test['CabinNum'] = df_test['CabinNum'].astype(float)"
   ]
  },
  {
   "cell_type": "code",
   "execution_count": 27,
   "metadata": {
    "pycharm": {
     "name": "#%%\n"
    }
   },
   "outputs": [
    {
     "data": {
      "text/plain": [
       "CabinDeck       8\n",
       "CabinNum     1817\n",
       "CabinSide       2\n",
       "dtype: int64"
      ]
     },
     "execution_count": 27,
     "metadata": {},
     "output_type": "execute_result"
    }
   ],
   "source": [
    "# check unique values for each column\n",
    "df_train[['CabinDeck', 'CabinNum', 'CabinSide']].nunique()"
   ]
  },
  {
   "cell_type": "code",
   "execution_count": 28,
   "metadata": {
    "pycharm": {
     "name": "#%%\n"
    }
   },
   "outputs": [
    {
     "data": {
      "image/png": "[encoded data removed]",
      "text/plain": [
       "<Figure size 576x864 with 3 Axes>"
      ]
     },
     "metadata": {},
     "output_type": "display_data"
    }
   ],
   "source": [
    "# visualise the distributions of cabin deck, cabin number and cabin side data\n",
    "fig = plt.figure(figsize=(8,12))\n",
    "\n",
    "plt.subplot(3,1,1)\n",
    "sns.countplot(data=df_train, x='CabinDeck', hue='Transported', order=['G','F','E','D','C','B','A','T'])\n",
    "plt.xlabel('')\n",
    "plt.title('Deck')\n",
    "\n",
    "plt.subplot(3,1,2)\n",
    "sns.histplot(data=df_train, x='CabinNum', hue='Transported', bins=100)\n",
    "plt.xlabel('')\n",
    "plt.title('Num')\n",
    "\n",
    "plt.subplot(3,1,3)\n",
    "sns.countplot(data=df_train, x='CabinSide', hue='Transported')\n",
    "plt.xlabel('')\n",
    "plt.title('Side')\n",
    "\n",
    "plt.tight_layout()\n",
    "plt.show()"
   ]
  },
  {
   "cell_type": "markdown",
   "metadata": {
    "pycharm": {
     "name": "#%% md\n"
    }
   },
   "source": [
    "The cabin number shows some clear decrease in the counts of total passengers. 0~300 has the most passengers, 300~600 has significantly fewer passengers. 600~1500 has further lower number. And 1500 onward has the fewest passengers.\n",
    "\n",
    "Hence we can probably use intervals with 300 (categorical data) rather than continuous data."
   ]
  },
  {
   "cell_type": "code",
   "execution_count": 29,
   "metadata": {
    "pycharm": {
     "name": "#%%\n"
    }
   },
   "outputs": [],
   "source": [
    "df_train['CabinNumInterval'] = pd.Series(str)\n",
    "df_test['CabinNumInterval'] = pd.Series(str)\n",
    "\n",
    "df_train.loc[df_train['CabinNum'] < 300, 'CabinNumInterval'] = '< 300'\n",
    "df_test.loc[df_test['CabinNum'] < 300, 'CabinNumInterval'] = '< 300'\n",
    "\n",
    "df_train.loc[(df_train['CabinNum'] >= 300) & (df_train['CabinNum'] < 600), 'CabinNumInterval'] = '300 ~ 600'\n",
    "df_test.loc[(df_test['CabinNum'] >= 300) & (df_test['CabinNum'] < 600), 'CabinNumInterval'] = '300 ~ 600'\n",
    "\n",
    "df_train.loc[(df_train['CabinNum'] >= 600) & (df_train['CabinNum'] < 900), 'CabinNumInterval'] = '600 ~ 900'\n",
    "df_test.loc[(df_test['CabinNum'] >= 600) & (df_test['CabinNum'] < 900), 'CabinNumInterval'] = '600 ~ 900'\n",
    "\n",
    "df_train.loc[(df_train['CabinNum'] >= 900) & (df_train['CabinNum'] < 1200), 'CabinNumInterval'] = '900 ~ 1200'\n",
    "df_test.loc[(df_test['CabinNum'] >= 900) & (df_test['CabinNum'] < 1200), 'CabinNumInterval'] = '900 ~ 1200'\n",
    "\n",
    "df_train.loc[(df_train['CabinNum'] >= 1200) & (df_train['CabinNum'] < 1500), 'CabinNumInterval'] = '1200 ~ 1500'\n",
    "df_test.loc[(df_test['CabinNum'] >= 1200) & (df_test['CabinNum'] < 1500), 'CabinNumInterval'] = '1200 ~ 1500'\n",
    "\n",
    "df_train.loc[df_train['CabinNum'] >= 1500, 'CabinNumInterval'] = '>= 1500'\n",
    "df_test.loc[df_test['CabinNum'] >= 1500, 'CabinNumInterval'] = '>= 1500'"
   ]
  },
  {
   "cell_type": "code",
   "execution_count": 30,
   "metadata": {
    "pycharm": {
     "name": "#%%\n"
    }
   },
   "outputs": [
    {
     "data": {
      "image/png": "[encoded data removed]",
      "text/plain": [
       "<Figure size 432x288 with 1 Axes>"
      ]
     },
     "metadata": {},
     "output_type": "display_data"
    }
   ],
   "source": [
    "# check distribution\n",
    "sns.countplot(data=df_train, x='CabinNumInterval', hue='Transported')\n",
    "plt.show()"
   ]
  },
  {
   "cell_type": "code",
   "execution_count": 31,
   "metadata": {
    "pycharm": {
     "name": "#%%\n"
    }
   },
   "outputs": [],
   "source": [
    "drop_col(['Cabin','CabinNum'])"
   ]
  },
  {
   "cell_type": "markdown",
   "metadata": {
    "pycharm": {
     "name": "#%% md\n"
    }
   },
   "source": [
    "### Name"
   ]
  },
  {
   "cell_type": "code",
   "execution_count": 32,
   "metadata": {
    "pycharm": {
     "name": "#%%\n"
    }
   },
   "outputs": [],
   "source": [
    "# fill the missing values for processing\n",
    "df_train['Name'].fillna('nan nan', inplace=True)\n",
    "df_test['Name'].fillna('nan nan', inplace=True)\n",
    "\n",
    "# extract family name information\n",
    "df_train['FamilyName'] = df_train['Name'].apply(lambda x: x.split(' ')[1])\n",
    "df_test['FamilyName'] = df_test['Name'].apply(lambda x: x.split(' ')[1])"
   ]
  },
  {
   "cell_type": "code",
   "execution_count": 33,
   "metadata": {
    "pycharm": {
     "name": "#%%\n"
    }
   },
   "outputs": [
    {
     "data": {
      "text/plain": [
       "nan          200\n",
       "Casonston     18\n",
       "Oneiles       16\n",
       "Domington     15\n",
       "Litthews      15\n",
       "            ... \n",
       "Secened        1\n",
       "Foller         1\n",
       "Unrespery      1\n",
       "Diazarez       1\n",
       "Tie            1\n",
       "Name: FamilyName, Length: 2218, dtype: int64"
      ]
     },
     "execution_count": 33,
     "metadata": {},
     "output_type": "execute_result"
    }
   ],
   "source": [
    "# Number of unique values in FamilyName\n",
    "df_train['FamilyName'].value_counts()"
   ]
  },
  {
   "cell_type": "markdown",
   "metadata": {
    "pycharm": {
     "name": "#%% md\n"
    }
   },
   "source": [
    "Obviously this cannot be used as a feature for the model.\n",
    "\n",
    "We can create another feature representing how many people in the same family are on the spaceship. (that's the size of the family for each passenger)\n",
    "\n",
    "Maybe passengers with a larger family have higher probability to be transported."
   ]
  },
  {
   "cell_type": "code",
   "execution_count": 34,
   "metadata": {
    "pycharm": {
     "name": "#%%\n"
    }
   },
   "outputs": [],
   "source": [
    "# count number of people in each family\n",
    "familysize = pd.concat([df_train, df_test])['FamilyName'].value_counts()\n",
    "\n",
    "# create a new column containing sizes of family\n",
    "df_train['FamilySize'] = df_train['FamilyName'].apply(lambda x: familysize[x])\n",
    "df_test['FamilySize'] = df_test['FamilyName'].apply(lambda x: familysize[x])"
   ]
  },
  {
   "cell_type": "code",
   "execution_count": 35,
   "metadata": {
    "pycharm": {
     "name": "#%%\n"
    }
   },
   "outputs": [
    {
     "data": {
      "text/plain": [
       "6      1009\n",
       "5       979\n",
       "7       974\n",
       "4       805\n",
       "9       763\n",
       "8       753\n",
       "3       616\n",
       "10      583\n",
       "11      441\n",
       "2       425\n",
       "12      344\n",
       "14      208\n",
       "294     200\n",
       "13      165\n",
       "1       133\n",
       "15       98\n",
       "16       94\n",
       "18       43\n",
       "17       38\n",
       "19       22\n",
       "Name: FamilySize, dtype: int64"
      ]
     },
     "execution_count": 35,
     "metadata": {},
     "output_type": "execute_result"
    }
   ],
   "source": [
    "# check unique family size values\n",
    "df_train['FamilySize'].value_counts()"
   ]
  },
  {
   "cell_type": "code",
   "execution_count": 36,
   "metadata": {
    "pycharm": {
     "name": "#%%\n"
    }
   },
   "outputs": [
    {
     "data": {
      "text/plain": [
       "27     nan\n",
       "58     nan\n",
       "65     nan\n",
       "77     nan\n",
       "101    nan\n",
       "Name: FamilyName, dtype: object"
      ]
     },
     "execution_count": 36,
     "metadata": {},
     "output_type": "execute_result"
    }
   ],
   "source": [
    "df_train[df_train['FamilySize'] == 294].head()['FamilyName']"
   ]
  },
  {
   "cell_type": "markdown",
   "metadata": {
    "pycharm": {
     "name": "#%% md\n"
    }
   },
   "source": [
    "There is a size of 294 which is the place for 'nan' (missing value)."
   ]
  },
  {
   "cell_type": "code",
   "execution_count": 37,
   "metadata": {
    "pycharm": {
     "name": "#%%\n"
    }
   },
   "outputs": [],
   "source": [
    "# retrieve the missing value\n",
    "df_train.loc[df_train['FamilySize'] == 294, 'FamilySize'] = np.nan\n",
    "df_test.loc[df_test['FamilyName'] == 'nan', 'FamilySize'] = np.nan"
   ]
  },
  {
   "cell_type": "code",
   "execution_count": 38,
   "metadata": {
    "pycharm": {
     "name": "#%%\n"
    }
   },
   "outputs": [
    {
     "data": {
      "image/png": "[encoded data removed]",
      "text/plain": [
       "<Figure size 432x288 with 1 Axes>"
      ]
     },
     "metadata": {},
     "output_type": "display_data"
    }
   ],
   "source": [
    "# visualise the distribution of family size\n",
    "sns.countplot(data=df_train, x='FamilySize', hue='Transported')\n",
    "plt.xticks(ticks=range(19), labels=range(1,20))\n",
    "plt.tight_layout()\n",
    "plt.show()"
   ]
  },
  {
   "cell_type": "code",
   "execution_count": 39,
   "metadata": {
    "pycharm": {
     "name": "#%%\n"
    }
   },
   "outputs": [],
   "source": [
    "drop_col(['Name', 'FamilyName'])"
   ]
  },
  {
   "cell_type": "markdown",
   "metadata": {},
   "source": [
    "For the five amenities, since there are missing values, we first need to clean the data (impute missing values)."
   ]
  },
  {
   "cell_type": "markdown",
   "metadata": {
    "pycharm": {
     "name": "#%% md\n"
    }
   },
   "source": [
    "# Data cleaning"
   ]
  },
  {
   "cell_type": "code",
   "execution_count": 40,
   "metadata": {
    "pycharm": {
     "name": "#%%\n"
    }
   },
   "outputs": [
    {
     "name": "stdout",
     "output_type": "stream",
     "text": [
      "HomePlanet           object\n",
      "CryoSleep            object\n",
      "Destination          object\n",
      "Age                 float64\n",
      "RoomService         float64\n",
      "FoodCourt           float64\n",
      "ShoppingMall        float64\n",
      "Spa                 float64\n",
      "VRDeck              float64\n",
      "Transported            bool\n",
      "GroupNo              object\n",
      "GroupSize             int64\n",
      "OnlyMember             bool\n",
      "CabinDeck            object\n",
      "CabinSide            object\n",
      "CabinNumInterval     object\n",
      "FamilySize          float64\n",
      "dtype: object\n"
     ]
    }
   ],
   "source": [
    "# check data types\n",
    "# do not need to bother for df_test because they are the same\n",
    "print(df_train.dtypes)"
   ]
  },
  {
   "cell_type": "markdown",
   "metadata": {
    "pycharm": {
     "name": "#%% md\n"
    }
   },
   "source": [
    "The data type of `GroupNo` is problematic. It should be integer type instead of object.\n",
    "\n",
    "Also the types for `Age` and `FamilySize` should both be integer instead of float. This is because there are missing values in these columns."
   ]
  },
  {
   "cell_type": "code",
   "execution_count": 41,
   "metadata": {
    "pycharm": {
     "name": "#%%\n"
    }
   },
   "outputs": [],
   "source": [
    "# convert the data type to integer\n",
    "df_train['GroupNo'] = df_train['GroupNo'].astype(int)\n",
    "df_test['GroupNo'] = df_test['GroupNo'].astype(int)"
   ]
  },
  {
   "cell_type": "code",
   "execution_count": 42,
   "metadata": {
    "pycharm": {
     "name": "#%%\n"
    }
   },
   "outputs": [
    {
     "name": "stdout",
     "output_type": "stream",
     "text": [
      "Total number of missing value in the training set is 2519\n",
      "HomePlanet          201\n",
      "CryoSleep           217\n",
      "Destination         182\n",
      "Age                 179\n",
      "RoomService         181\n",
      "FoodCourt           183\n",
      "ShoppingMall        208\n",
      "Spa                 183\n",
      "VRDeck              188\n",
      "Transported           0\n",
      "GroupNo               0\n",
      "GroupSize             0\n",
      "OnlyMember            0\n",
      "CabinDeck           199\n",
      "CabinSide           199\n",
      "CabinNumInterval    199\n",
      "FamilySize          200\n",
      "dtype: int64\n",
      "\n",
      "Total number of missing value in the test set is 1224\n",
      "HomePlanet           87\n",
      "CryoSleep            93\n",
      "Destination          92\n",
      "Age                  91\n",
      "RoomService          82\n",
      "FoodCourt           106\n",
      "ShoppingMall         98\n",
      "Spa                 101\n",
      "VRDeck               80\n",
      "GroupNo               0\n",
      "GroupSize             0\n",
      "OnlyMember            0\n",
      "CabinDeck           100\n",
      "CabinSide           100\n",
      "CabinNumInterval    100\n",
      "FamilySize           94\n",
      "dtype: int64\n"
     ]
    }
   ],
   "source": [
    "# check for missing values (because many new features have been added)\n",
    "print(\"Total number of missing value in the training set is\", sum(df_train.isna().sum()))\n",
    "print(df_train.isna().sum())\n",
    "\n",
    "print(\"\\nTotal number of missing value in the test set is\", sum(df_test.isna().sum()))\n",
    "print(df_test.isna().sum())"
   ]
  },
  {
   "cell_type": "markdown",
   "metadata": {
    "pycharm": {
     "name": "#%% md\n"
    }
   },
   "source": [
    "The proposed approach is to use median of each column to impute missing values for numerical feature, and to use mode for categorical feature."
   ]
  },
  {
   "cell_type": "code",
   "execution_count": 43,
   "metadata": {
    "pycharm": {
     "name": "#%%\n"
    }
   },
   "outputs": [
    {
     "name": "stdout",
     "output_type": "stream",
     "text": [
      "All Age in training set being set to 27.0\n",
      "All Age in test set being set to 26.0\n",
      "All RoomService in training set being set to 0.0\n",
      "All RoomService in test set being set to 0.0\n",
      "All FoodCourt in training set being set to 0.0\n",
      "All FoodCourt in test set being set to 0.0\n",
      "All ShoppingMall in training set being set to 0.0\n",
      "All ShoppingMall in test set being set to 0.0\n",
      "All Spa in training set being set to 0.0\n",
      "All Spa in test set being set to 0.0\n",
      "All VRDeck in training set being set to 0.0\n",
      "All VRDeck in test set being set to 0.0\n",
      "All FamilySize in training set being set to 7.0\n",
      "All FamilySize in test set being set to 7.0\n"
     ]
    }
   ],
   "source": [
    "# use median to impute missing values for numerical data (can also use SimpleImputer in skilearn module)\n",
    "na_num_cols = ['Age', 'RoomService', 'FoodCourt', 'ShoppingMall', 'Spa', 'VRDeck', 'FamilySize']\n",
    "for col in na_num_cols:\n",
    "    print(f\"All {col} in training set being set to {df_train[col].median()}\")\n",
    "    df_train[col].fillna(df_train[col].median(), inplace=True)\n",
    "    \n",
    "    print(f\"All {col} in test set being set to {df_test[col].median()}\")\n",
    "    df_test[col].fillna(df_test[col].median(), inplace=True)"
   ]
  },
  {
   "cell_type": "code",
   "execution_count": 44,
   "metadata": {
    "pycharm": {
     "name": "#%%\n"
    }
   },
   "outputs": [
    {
     "name": "stdout",
     "output_type": "stream",
     "text": [
      "All HomePlanet in training set being set to Earth\n",
      "All HomePlanet in test set being set to Earth\n",
      "All CryoSleep in training set being set to False\n",
      "All CryoSleep in test set being set to False\n",
      "All Destination in training set being set to TRAPPIST-1e\n",
      "All Destination in test set being set to TRAPPIST-1e\n",
      "All CabinDeck in training set being set to F\n",
      "All CabinDeck in test set being set to F\n",
      "All CabinSide in training set being set to S\n",
      "All CabinSide in test set being set to S\n",
      "All CabinNumInterval in training set being set to < 300\n",
      "All CabinNumInterval in test set being set to < 300\n"
     ]
    }
   ],
   "source": [
    "# use mode to impute missing values for categorical features\n",
    "na_cat_cols = ['HomePlanet', 'CryoSleep', 'Destination', 'CabinDeck', 'CabinSide', 'CabinNumInterval']\n",
    "for col in na_cat_cols:\n",
    "    print(f\"All {col} in training set being set to {df_train[col].mode()[0]}\")\n",
    "    df_train[col].fillna(df_train[col].mode()[0], inplace=True)\n",
    "    \n",
    "    print(f\"All {col} in test set being set to {df_test[col].mode()[0]}\")\n",
    "    df_test[col].fillna(df_test[col].mode()[0], inplace=True)"
   ]
  },
  {
   "cell_type": "code",
   "execution_count": 45,
   "metadata": {
    "pycharm": {
     "name": "#%%\n"
    }
   },
   "outputs": [
    {
     "name": "stdout",
     "output_type": "stream",
     "text": [
      "Total number of missing value in the training set is 0\n",
      "HomePlanet          0\n",
      "CryoSleep           0\n",
      "Destination         0\n",
      "Age                 0\n",
      "RoomService         0\n",
      "FoodCourt           0\n",
      "ShoppingMall        0\n",
      "Spa                 0\n",
      "VRDeck              0\n",
      "Transported         0\n",
      "GroupNo             0\n",
      "GroupSize           0\n",
      "OnlyMember          0\n",
      "CabinDeck           0\n",
      "CabinSide           0\n",
      "CabinNumInterval    0\n",
      "FamilySize          0\n",
      "dtype: int64\n",
      "\n",
      "Total number of missing value in the test set is 0\n",
      "HomePlanet          0\n",
      "CryoSleep           0\n",
      "Destination         0\n",
      "Age                 0\n",
      "RoomService         0\n",
      "FoodCourt           0\n",
      "ShoppingMall        0\n",
      "Spa                 0\n",
      "VRDeck              0\n",
      "GroupNo             0\n",
      "GroupSize           0\n",
      "OnlyMember          0\n",
      "CabinDeck           0\n",
      "CabinSide           0\n",
      "CabinNumInterval    0\n",
      "FamilySize          0\n",
      "dtype: int64\n"
     ]
    }
   ],
   "source": [
    "# check for missing values after the imputation\n",
    "print(\"Total number of missing value in the training set is\", sum(df_train.isna().sum()))\n",
    "print(df_train.isna().sum())\n",
    "\n",
    "print(\"\\nTotal number of missing value in the test set is\", sum(df_test.isna().sum()))\n",
    "print(df_test.isna().sum())"
   ]
  },
  {
   "cell_type": "code",
   "execution_count": 46,
   "metadata": {
    "pycharm": {
     "name": "#%%\n"
    }
   },
   "outputs": [
    {
     "data": {
      "text/plain": [
       "HomePlanet           object\n",
       "CryoSleep              bool\n",
       "Destination          object\n",
       "Age                 float64\n",
       "RoomService         float64\n",
       "FoodCourt           float64\n",
       "ShoppingMall        float64\n",
       "Spa                 float64\n",
       "VRDeck              float64\n",
       "Transported            bool\n",
       "GroupNo               int32\n",
       "GroupSize             int64\n",
       "OnlyMember             bool\n",
       "CabinDeck            object\n",
       "CabinSide            object\n",
       "CabinNumInterval     object\n",
       "FamilySize          float64\n",
       "dtype: object"
      ]
     },
     "execution_count": 46,
     "metadata": {},
     "output_type": "execute_result"
    }
   ],
   "source": [
    "# check data types\n",
    "df_train.dtypes"
   ]
  },
  {
   "cell_type": "code",
   "execution_count": 47,
   "metadata": {
    "pycharm": {
     "name": "#%%\n"
    }
   },
   "outputs": [
    {
     "data": {
      "text/plain": [
       "HomePlanet           object\n",
       "CryoSleep              bool\n",
       "Destination          object\n",
       "Age                   int32\n",
       "RoomService         float64\n",
       "FoodCourt           float64\n",
       "ShoppingMall        float64\n",
       "Spa                 float64\n",
       "VRDeck              float64\n",
       "Transported            bool\n",
       "GroupNo               int32\n",
       "GroupSize             int64\n",
       "OnlyMember             bool\n",
       "CabinDeck            object\n",
       "CabinSide            object\n",
       "CabinNumInterval     object\n",
       "FamilySize            int32\n",
       "dtype: object"
      ]
     },
     "execution_count": 47,
     "metadata": {},
     "output_type": "execute_result"
    }
   ],
   "source": [
    "# convert data type to integer\n",
    "df_train[['Age', 'FamilySize']] = df_train[['Age', 'FamilySize']].astype(int)\n",
    "df_test[['Age', 'FamilySize']] = df_test[['Age', 'FamilySize']].astype(int)\n",
    "\n",
    "# and recheck\n",
    "df_train.dtypes"
   ]
  },
  {
   "cell_type": "markdown",
   "metadata": {
    "pycharm": {
     "name": "#%% md\n"
    }
   },
   "source": [
    "There is now no missing value and the data types are all correct."
   ]
  },
  {
   "cell_type": "markdown",
   "metadata": {
    "pycharm": {
     "name": "#%% md\n"
    }
   },
   "source": [
    "# Feature engineering (Amenities)"
   ]
  },
  {
   "cell_type": "code",
   "execution_count": 48,
   "metadata": {
    "pycharm": {
     "name": "#%%\n"
    }
   },
   "outputs": [
    {
     "data": {
      "image/png": "[encoded data removed]",
      "text/plain": [
       "<Figure size 432x288 with 1 Axes>"
      ]
     },
     "metadata": {},
     "output_type": "display_data"
    }
   ],
   "source": [
    "# create a total sepnd column\n",
    "df_train['TotalSpend'] = df_train[num_cols[1:]].sum(axis=1)\n",
    "df_test['TotalSpend'] = df_test[num_cols[1:]].sum(axis=1)\n",
    "\n",
    "# inspect the distribution of it\n",
    "sns.histplot(data=df_train, x='TotalSpend', hue='Transported', bins=200)\n",
    "plt.show()"
   ]
  },
  {
   "cell_type": "code",
   "execution_count": 49,
   "metadata": {
    "pycharm": {
     "name": "#%%\n"
    }
   },
   "outputs": [
    {
     "data": {
      "image/png": "[encoded data removed]",
      "text/plain": [
       "<Figure size 432x288 with 1 Axes>"
      ]
     },
     "metadata": {},
     "output_type": "display_data"
    }
   ],
   "source": [
    "# create binary categorical data for pay/not pay for any amenity\n",
    "df_train['SpendOnShip'] = df_train['TotalSpend'] > 0\n",
    "df_test['SpendOnShip'] = df_test['TotalSpend'] > 0\n",
    "\n",
    "# visualise the distribution\n",
    "sns.countplot(data=df_train, x='SpendOnShip', hue='Transported')\n",
    "plt.show()"
   ]
  },
  {
   "cell_type": "code",
   "execution_count": 50,
   "metadata": {},
   "outputs": [],
   "source": [
    "drop_col('TotalSpend')"
   ]
  },
  {
   "cell_type": "markdown",
   "metadata": {
    "pycharm": {
     "name": "#%% md\n"
    }
   },
   "source": [
    "# Data pre-processing"
   ]
  },
  {
   "cell_type": "code",
   "execution_count": 51,
   "metadata": {
    "pycharm": {
     "name": "#%%\n"
    }
   },
   "outputs": [
    {
     "name": "stdout",
     "output_type": "stream",
     "text": [
      "Numerical features:  ['Age', 'RoomService', 'FoodCourt', 'ShoppingMall', 'Spa', 'VRDeck', 'GroupNo', 'FamilySize']\n",
      "Categorical features:  ['HomePlanet', 'CryoSleep', 'Destination', 'GroupSize', 'OnlyMember', 'CabinDeck', 'CabinSide', 'CabinNumInterval', 'SpendOnShip']\n"
     ]
    }
   ],
   "source": [
    "num_cols, cat_cols = [], []\n",
    "for col_name in df_test.columns:\n",
    "    if df_train.dtypes[col_name] == int or df_train.dtypes[col_name] == float:\n",
    "        num_cols.append(col_name)\n",
    "    else:\n",
    "        cat_cols.append(col_name)\n",
    "\n",
    "print(\"Numerical features: \", num_cols)\n",
    "print(\"Categorical features: \", cat_cols)"
   ]
  },
  {
   "cell_type": "markdown",
   "metadata": {
    "pycharm": {
     "name": "#%% md\n"
    }
   },
   "source": [
    "Note that although the data type of group number `GroupNo` is integer, it should actually be treated as a categorical data because the number itself doesn't have numerical meanings but rather act as a label."
   ]
  },
  {
   "cell_type": "code",
   "execution_count": 52,
   "metadata": {
    "pycharm": {
     "name": "#%%\n"
    }
   },
   "outputs": [],
   "source": [
    "# GroupNo should be categorical feature\n",
    "num_cols.remove('GroupNo')\n",
    "cat_cols.append('GroupNo')"
   ]
  },
  {
   "cell_type": "markdown",
   "metadata": {
    "pycharm": {
     "name": "#%% md\n"
    }
   },
   "source": [
    "The numerical features need to be scaled and the categorical features need to be encoded.\n",
    "\n",
    "But before that, we need to check the distribution of the numerical data to ensure a normal-like structure."
   ]
  },
  {
   "cell_type": "code",
   "execution_count": 53,
   "metadata": {
    "pycharm": {
     "name": "#%%\n"
    }
   },
   "outputs": [
    {
     "data": {
      "image/png": "[encoded data removed]",
      "text/plain": [
       "<Figure size 576x1080 with 7 Axes>"
      ]
     },
     "metadata": {},
     "output_type": "display_data"
    }
   ],
   "source": [
    "# check distributions of the numerical data (only check values greater than 0)\n",
    "plt.figure(figsize=(8, 15))\n",
    "\n",
    "for i, col in enumerate(num_cols):\n",
    "    plt.subplot(4, 2, i+1)\n",
    "    sns.histplot(data=df_train[df_train[col]>0], x=col, bins=30)\n",
    "\n",
    "plt.show()"
   ]
  },
  {
   "cell_type": "markdown",
   "metadata": {},
   "source": [
    "The distributions of the five amenities seem unnormal. We need to log-transform them."
   ]
  },
  {
   "cell_type": "code",
   "execution_count": 54,
   "metadata": {},
   "outputs": [],
   "source": [
    "# log transformation\n",
    "for col in num_cols[1:6]:\n",
    "    df_train[col] = np.log(df_train[col] + 1)\n",
    "    df_test[col] = np.log(df_test[col] + 1)"
   ]
  },
  {
   "cell_type": "code",
   "execution_count": 55,
   "metadata": {
    "pycharm": {
     "name": "#%%\n"
    }
   },
   "outputs": [],
   "source": [
    "# use LabelEncoder to encode categorical values\n",
    "le = LabelEncoder()\n",
    "\n",
    "# create a dictionary to memorise the pairs of all the categories with the corresponding labels (for looking up the meaning of the label)\n",
    "label_memo = {}\n",
    "\n",
    "for col in cat_cols:\n",
    "    uniq_cat = np.union1d(df_train[col].unique(), df_test[col].unique())\n",
    "    le.fit(uniq_cat)\n",
    "    \n",
    "    # add memo\n",
    "    memo = {}\n",
    "    for i, cat in enumerate(uniq_cat):\n",
    "        memo[le.transform(uniq_cat)[i]] = cat\n",
    "    label_memo[col] = memo\n",
    "    \n",
    "    # encode the column\n",
    "    df_train[col] = le.transform(df_train[col])\n",
    "    df_test[col] = le.transform(df_test[col])"
   ]
  },
  {
   "cell_type": "code",
   "execution_count": 56,
   "metadata": {
    "pycharm": {
     "name": "#%%\n"
    }
   },
   "outputs": [],
   "source": [
    "# also encode the target variable\n",
    "le.fit([True, False])\n",
    "temp_memo = {}\n",
    "\n",
    "for i, cat in enumerate([True, False]):\n",
    "    temp_memo[le.transform([True, False])[i]] = cat\n",
    "label_memo['Transported'] = temp_memo\n",
    "\n",
    "# encode the column\n",
    "df_train['Transported'] = le.transform(df_train['Transported'])"
   ]
  },
  {
   "cell_type": "code",
   "execution_count": 57,
   "metadata": {
    "pycharm": {
     "name": "#%%\n"
    }
   },
   "outputs": [
    {
     "data": {
      "text/plain": [
       "'300 ~ 600'"
      ]
     },
     "execution_count": 57,
     "metadata": {},
     "output_type": "execute_result"
    }
   ],
   "source": [
    "# an example of looking up a label\n",
    "# say I want to know what it means for a 1 for the CabinNumInterval feature\n",
    "label_memo['CabinNumInterval'][1]"
   ]
  },
  {
   "cell_type": "code",
   "execution_count": 58,
   "metadata": {
    "pycharm": {
     "name": "#%%\n"
    }
   },
   "outputs": [
    {
     "data": {
      "text/plain": [
       "HomePlanet            int32\n",
       "CryoSleep             int64\n",
       "Destination           int32\n",
       "Age                   int32\n",
       "RoomService         float64\n",
       "FoodCourt           float64\n",
       "ShoppingMall        float64\n",
       "Spa                 float64\n",
       "VRDeck              float64\n",
       "Transported           int64\n",
       "GroupNo               int64\n",
       "GroupSize             int64\n",
       "OnlyMember            int64\n",
       "CabinDeck             int32\n",
       "CabinSide             int32\n",
       "CabinNumInterval      int32\n",
       "FamilySize            int32\n",
       "SpendOnShip           int64\n",
       "dtype: object"
      ]
     },
     "execution_count": 58,
     "metadata": {},
     "output_type": "execute_result"
    }
   ],
   "source": [
    "df_train.dtypes"
   ]
  },
  {
   "cell_type": "code",
   "execution_count": 59,
   "metadata": {
    "pycharm": {
     "name": "#%%\n"
    }
   },
   "outputs": [
    {
     "data": {
      "text/plain": [
       "{'HomePlanet': {0: 'Earth', 1: 'Europa', 2: 'Mars'},\n",
       " 'CryoSleep': {0: False, 1: True},\n",
       " 'Destination': {0: '55 Cancri e', 1: 'PSO J318.5-22', 2: 'TRAPPIST-1e'},\n",
       " 'GroupSize': {0: 1, 1: 2, 2: 3, 3: 4, 4: 5, 5: 6, 6: 7, 7: 8},\n",
       " 'OnlyMember': {0: False, 1: True},\n",
       " 'CabinDeck': {0: 'A', 1: 'B', 2: 'C', 3: 'D', 4: 'E', 5: 'F', 6: 'G', 7: 'T'},\n",
       " 'CabinSide': {0: 'P', 1: 'S'},\n",
       " 'CabinNumInterval': {0: '1200 ~ 1500',\n",
       "  1: '300 ~ 600',\n",
       "  2: '600 ~ 900',\n",
       "  3: '900 ~ 1200',\n",
       "  4: '< 300',\n",
       "  5: '>= 1500'},\n",
       " 'SpendOnShip': {0: False, 1: True},\n",
       " 'GroupNo': {0: 1, 1: 2, 2: 3, 3: 4, 4: 5, 5: 6, 6: 7, 7: 8},\n",
       " 'Transported': {1: True, 0: False}}"
      ]
     },
     "execution_count": 59,
     "metadata": {},
     "output_type": "execute_result"
    }
   ],
   "source": [
    "label_memo"
   ]
  },
  {
   "cell_type": "markdown",
   "metadata": {
    "pycharm": {
     "name": "#%% md\n"
    }
   },
   "source": [
    "Next we need to scale the numeriacl features."
   ]
  },
  {
   "cell_type": "code",
   "execution_count": 60,
   "metadata": {
    "pycharm": {
     "name": "#%%\n"
    }
   },
   "outputs": [],
   "source": [
    "scaler = StandardScaler()\n",
    "for col in num_cols:\n",
    "    df_train[col] = scaler.fit_transform(df_train[col].values.reshape(-1,1))\n",
    "    df_test[col] = scaler.fit_transform(df_test[col].values.reshape(-1,1))"
   ]
  },
  {
   "cell_type": "markdown",
   "metadata": {
    "pycharm": {
     "name": "#%% md\n"
    }
   },
   "source": [
    "# Model"
   ]
  },
  {
   "cell_type": "markdown",
   "metadata": {
    "pycharm": {
     "name": "#%% md\n"
    }
   },
   "source": [
    "First we need to prepare the data that we are going to use to fit the model."
   ]
  },
  {
   "cell_type": "code",
   "execution_count": 61,
   "metadata": {
    "pycharm": {
     "name": "#%%\n"
    }
   },
   "outputs": [
    {
     "data": {
      "text/plain": [
       "['HomePlanet',\n",
       " 'CryoSleep',\n",
       " 'Destination',\n",
       " 'Age',\n",
       " 'RoomService',\n",
       " 'FoodCourt',\n",
       " 'ShoppingMall',\n",
       " 'Spa',\n",
       " 'VRDeck',\n",
       " 'GroupNo',\n",
       " 'GroupSize',\n",
       " 'OnlyMember',\n",
       " 'CabinDeck',\n",
       " 'CabinSide',\n",
       " 'CabinNumInterval',\n",
       " 'FamilySize',\n",
       " 'SpendOnShip']"
      ]
     },
     "execution_count": 61,
     "metadata": {},
     "output_type": "execute_result"
    }
   ],
   "source": [
    "# feature names\n",
    "features = df_test.columns.tolist()\n",
    "features"
   ]
  },
  {
   "cell_type": "code",
   "execution_count": 62,
   "metadata": {
    "pycharm": {
     "name": "#%%\n"
    }
   },
   "outputs": [],
   "source": [
    "# prepare data\n",
    "X = df_train[features].values\n",
    "y = df_train['Transported'].values\n",
    "\n",
    "# split train data and test data for the model selection\n",
    "X_train, X_test, y_train, y_test = train_test_split(X, y, random_state=2022, test_size=0.25)"
   ]
  },
  {
   "cell_type": "markdown",
   "metadata": {
    "pycharm": {
     "name": "#%% md\n"
    }
   },
   "source": [
    "Use `lazypredict.Supervised.LazyClassifier` to lazily explore the performance of different models."
   ]
  },
  {
   "cell_type": "code",
   "execution_count": 63,
   "metadata": {
    "pycharm": {
     "name": "#%%\n"
    }
   },
   "outputs": [
    {
     "name": "stderr",
     "output_type": "stream",
     "text": [
      "100%|██████████| 29/29 [00:11<00:00,  2.53it/s]\n"
     ]
    }
   ],
   "source": [
    "lazy_clf = LazyClassifier(random_state=2022, ignore_warnings=True, verbose=0)\n",
    "\n",
    "lazy_model, lazy_prd = lazy_clf.fit(X_train, X_test, y_train, y_test)"
   ]
  },
  {
   "cell_type": "code",
   "execution_count": 64,
   "metadata": {
    "pycharm": {
     "name": "#%%\n"
    }
   },
   "outputs": [
    {
     "data": {
      "text/html": [
       "<div>\n",
       "<style scoped>\n",
       "    .dataframe tbody tr th:only-of-type {\n",
       "        vertical-align: middle;\n",
       "    }\n",
       "\n",
       "    .dataframe tbody tr th {\n",
       "        vertical-align: top;\n",
       "    }\n",
       "\n",
       "    .dataframe thead th {\n",
       "        text-align: right;\n",
       "    }\n",
       "</style>\n",
       "<table border=\"1\" class=\"dataframe\">\n",
       "  <thead>\n",
       "    <tr style=\"text-align: right;\">\n",
       "      <th></th>\n",
       "      <th>Accuracy</th>\n",
       "      <th>Balanced Accuracy</th>\n",
       "      <th>ROC AUC</th>\n",
       "      <th>F1 Score</th>\n",
       "      <th>Time Taken</th>\n",
       "    </tr>\n",
       "    <tr>\n",
       "      <th>Model</th>\n",
       "      <th></th>\n",
       "      <th></th>\n",
       "      <th></th>\n",
       "      <th></th>\n",
       "      <th></th>\n",
       "    </tr>\n",
       "  </thead>\n",
       "  <tbody>\n",
       "    <tr>\n",
       "      <th>LGBMClassifier</th>\n",
       "      <td>0.80</td>\n",
       "      <td>0.80</td>\n",
       "      <td>0.80</td>\n",
       "      <td>0.80</td>\n",
       "      <td>0.15</td>\n",
       "    </tr>\n",
       "    <tr>\n",
       "      <th>XGBClassifier</th>\n",
       "      <td>0.80</td>\n",
       "      <td>0.80</td>\n",
       "      <td>0.80</td>\n",
       "      <td>0.80</td>\n",
       "      <td>0.21</td>\n",
       "    </tr>\n",
       "    <tr>\n",
       "      <th>RandomForestClassifier</th>\n",
       "      <td>0.80</td>\n",
       "      <td>0.80</td>\n",
       "      <td>0.80</td>\n",
       "      <td>0.80</td>\n",
       "      <td>0.71</td>\n",
       "    </tr>\n",
       "    <tr>\n",
       "      <th>ExtraTreesClassifier</th>\n",
       "      <td>0.79</td>\n",
       "      <td>0.79</td>\n",
       "      <td>0.79</td>\n",
       "      <td>0.79</td>\n",
       "      <td>0.64</td>\n",
       "    </tr>\n",
       "    <tr>\n",
       "      <th>LinearSVC</th>\n",
       "      <td>0.78</td>\n",
       "      <td>0.78</td>\n",
       "      <td>0.78</td>\n",
       "      <td>0.78</td>\n",
       "      <td>0.30</td>\n",
       "    </tr>\n",
       "    <tr>\n",
       "      <th>LogisticRegression</th>\n",
       "      <td>0.78</td>\n",
       "      <td>0.78</td>\n",
       "      <td>0.78</td>\n",
       "      <td>0.78</td>\n",
       "      <td>0.03</td>\n",
       "    </tr>\n",
       "    <tr>\n",
       "      <th>SVC</th>\n",
       "      <td>0.78</td>\n",
       "      <td>0.78</td>\n",
       "      <td>0.78</td>\n",
       "      <td>0.78</td>\n",
       "      <td>1.02</td>\n",
       "    </tr>\n",
       "    <tr>\n",
       "      <th>AdaBoostClassifier</th>\n",
       "      <td>0.78</td>\n",
       "      <td>0.78</td>\n",
       "      <td>0.78</td>\n",
       "      <td>0.78</td>\n",
       "      <td>0.30</td>\n",
       "    </tr>\n",
       "    <tr>\n",
       "      <th>CalibratedClassifierCV</th>\n",
       "      <td>0.78</td>\n",
       "      <td>0.78</td>\n",
       "      <td>0.78</td>\n",
       "      <td>0.78</td>\n",
       "      <td>1.33</td>\n",
       "    </tr>\n",
       "    <tr>\n",
       "      <th>LinearDiscriminantAnalysis</th>\n",
       "      <td>0.78</td>\n",
       "      <td>0.78</td>\n",
       "      <td>0.78</td>\n",
       "      <td>0.78</td>\n",
       "      <td>0.04</td>\n",
       "    </tr>\n",
       "  </tbody>\n",
       "</table>\n",
       "</div>"
      ],
      "text/plain": [
       "                            Accuracy  Balanced Accuracy  ROC AUC  F1 Score  \\\n",
       "Model                                                                        \n",
       "LGBMClassifier                  0.80               0.80     0.80      0.80   \n",
       "XGBClassifier                   0.80               0.80     0.80      0.80   \n",
       "RandomForestClassifier          0.80               0.80     0.80      0.80   \n",
       "ExtraTreesClassifier            0.79               0.79     0.79      0.79   \n",
       "LinearSVC                       0.78               0.78     0.78      0.78   \n",
       "LogisticRegression              0.78               0.78     0.78      0.78   \n",
       "SVC                             0.78               0.78     0.78      0.78   \n",
       "AdaBoostClassifier              0.78               0.78     0.78      0.78   \n",
       "CalibratedClassifierCV          0.78               0.78     0.78      0.78   \n",
       "LinearDiscriminantAnalysis      0.78               0.78     0.78      0.78   \n",
       "\n",
       "                            Time Taken  \n",
       "Model                                   \n",
       "LGBMClassifier                    0.15  \n",
       "XGBClassifier                     0.21  \n",
       "RandomForestClassifier            0.71  \n",
       "ExtraTreesClassifier              0.64  \n",
       "LinearSVC                         0.30  \n",
       "LogisticRegression                0.03  \n",
       "SVC                               1.02  \n",
       "AdaBoostClassifier                0.30  \n",
       "CalibratedClassifierCV            1.33  \n",
       "LinearDiscriminantAnalysis        0.04  "
      ]
     },
     "execution_count": 64,
     "metadata": {},
     "output_type": "execute_result"
    }
   ],
   "source": [
    "lazy_model[:10]"
   ]
  },
  {
   "cell_type": "markdown",
   "metadata": {},
   "source": [
    "The model with the best performance is LGBMClassifier, which stands for Light Gradient Boosting Model."
   ]
  },
  {
   "cell_type": "markdown",
   "metadata": {},
   "source": [
    "# LGBM with Grid Search"
   ]
  },
  {
   "cell_type": "code",
   "execution_count": 65,
   "metadata": {
    "pycharm": {
     "name": "#%%\n"
    }
   },
   "outputs": [],
   "source": [
    "# initialise LGBM classifier\n",
    "lgbm = LGBMClassifier(random_state=2022)\n",
    "\n",
    "# grid search parameters\n",
    "params = {'boosting_type': ['gbdt', 'dart', 'goss'],\n",
    "          'max_depth': [15, 20, 25],\n",
    "          'learning_rate': [0.02, 0.06, 0.1],\n",
    "          'n_estimators': [100, 150, 200, 250]}"
   ]
  },
  {
   "cell_type": "code",
   "execution_count": 66,
   "metadata": {},
   "outputs": [
    {
     "name": "stdout",
     "output_type": "stream",
     "text": [
      "0.796688132474701\n",
      "{'boosting_type': 'gbdt', 'learning_rate': 0.06, 'max_depth': 25, 'n_estimators': 100}\n"
     ]
    }
   ],
   "source": [
    "clf = GridSearchCV(lgbm, params, cv=None, n_jobs=-1)\n",
    "\n",
    "clf.fit(X_train, y_train)\n",
    "\n",
    "print(clf.score(X_test, y_test))\n",
    "\n",
    "best_params = clf.best_params_\n",
    "print(best_params)"
   ]
  },
  {
   "cell_type": "code",
   "execution_count": 67,
   "metadata": {},
   "outputs": [
    {
     "name": "stdout",
     "output_type": "stream",
     "text": [
      "The average cv score is 0.8029 with a standard deviation of 0.0184\n"
     ]
    }
   ],
   "source": [
    "# use the best parameters\n",
    "lgbm = LGBMClassifier(**best_params, random_state=2022)\n",
    "\n",
    "# cv score\n",
    "cv_score = cross_val_score(lgbm, X, y, cv=9, scoring='accuracy')\n",
    "print(f\"The average cv score is {cv_score.mean():.4f} with a standard deviation of {cv_score.std():.4f}\")"
   ]
  },
  {
   "cell_type": "markdown",
   "metadata": {},
   "source": [
    "# Make predictions (9 folds)"
   ]
  },
  {
   "cell_type": "code",
   "execution_count": 68,
   "metadata": {},
   "outputs": [],
   "source": [
    "# prepare feature data for the target\n",
    "feature_target = df_test[features].values\n",
    "\n",
    "# initialise an array for comtaining the predictions\n",
    "target = np.zeros(df_test.shape[0])"
   ]
  },
  {
   "cell_type": "code",
   "execution_count": 69,
   "metadata": {},
   "outputs": [],
   "source": [
    "# 9 folds\n",
    "skf = StratifiedKFold(n_splits=9, shuffle=True, random_state=2022)\n",
    "\n",
    "for index_train, _ in skf.split(X, y):\n",
    "    X_train, y_train = X[index_train], y[index_train]\n",
    "    \n",
    "    # fit model\n",
    "    lgbm.fit(X_train, y_train)\n",
    "    \n",
    "    # make predictions\n",
    "    predictions = lgbm.predict(feature_target)\n",
    "    \n",
    "    # add predictions to the final target\n",
    "\n",
    "    target += predictions"
   ]
  },
  {
   "cell_type": "code",
   "execution_count": 70,
   "metadata": {},
   "outputs": [
    {
     "data": {
      "text/html": [
       "<div>\n",
       "<style scoped>\n",
       "    .dataframe tbody tr th:only-of-type {\n",
       "        vertical-align: middle;\n",
       "    }\n",
       "\n",
       "    .dataframe tbody tr th {\n",
       "        vertical-align: top;\n",
       "    }\n",
       "\n",
       "    .dataframe thead th {\n",
       "        text-align: right;\n",
       "    }\n",
       "</style>\n",
       "<table border=\"1\" class=\"dataframe\">\n",
       "  <thead>\n",
       "    <tr style=\"text-align: right;\">\n",
       "      <th></th>\n",
       "      <th>HomePlanet</th>\n",
       "      <th>CryoSleep</th>\n",
       "      <th>Destination</th>\n",
       "      <th>Age</th>\n",
       "      <th>RoomService</th>\n",
       "      <th>FoodCourt</th>\n",
       "      <th>ShoppingMall</th>\n",
       "      <th>Spa</th>\n",
       "      <th>VRDeck</th>\n",
       "      <th>GroupNo</th>\n",
       "      <th>GroupSize</th>\n",
       "      <th>OnlyMember</th>\n",
       "      <th>CabinDeck</th>\n",
       "      <th>CabinSide</th>\n",
       "      <th>CabinNumInterval</th>\n",
       "      <th>FamilySize</th>\n",
       "      <th>SpendOnShip</th>\n",
       "      <th>Transported</th>\n",
       "    </tr>\n",
       "  </thead>\n",
       "  <tbody>\n",
       "    <tr>\n",
       "      <th>0</th>\n",
       "      <td>0</td>\n",
       "      <td>1</td>\n",
       "      <td>2</td>\n",
       "      <td>-0.11</td>\n",
       "      <td>-0.64</td>\n",
       "      <td>-0.65</td>\n",
       "      <td>-0.63</td>\n",
       "      <td>-0.66</td>\n",
       "      <td>-0.62</td>\n",
       "      <td>0</td>\n",
       "      <td>0</td>\n",
       "      <td>1</td>\n",
       "      <td>6</td>\n",
       "      <td>1</td>\n",
       "      <td>4</td>\n",
       "      <td>0.23</td>\n",
       "      <td>0</td>\n",
       "      <td>True</td>\n",
       "    </tr>\n",
       "    <tr>\n",
       "      <th>1</th>\n",
       "      <td>0</td>\n",
       "      <td>0</td>\n",
       "      <td>2</td>\n",
       "      <td>-0.68</td>\n",
       "      <td>-0.64</td>\n",
       "      <td>0.14</td>\n",
       "      <td>-0.63</td>\n",
       "      <td>2.23</td>\n",
       "      <td>-0.62</td>\n",
       "      <td>0</td>\n",
       "      <td>0</td>\n",
       "      <td>1</td>\n",
       "      <td>5</td>\n",
       "      <td>1</td>\n",
       "      <td>4</td>\n",
       "      <td>-0.93</td>\n",
       "      <td>1</td>\n",
       "      <td>False</td>\n",
       "    </tr>\n",
       "    <tr>\n",
       "      <th>2</th>\n",
       "      <td>1</td>\n",
       "      <td>1</td>\n",
       "      <td>0</td>\n",
       "      <td>0.17</td>\n",
       "      <td>-0.64</td>\n",
       "      <td>-0.65</td>\n",
       "      <td>-0.63</td>\n",
       "      <td>-0.66</td>\n",
       "      <td>-0.62</td>\n",
       "      <td>0</td>\n",
       "      <td>0</td>\n",
       "      <td>1</td>\n",
       "      <td>2</td>\n",
       "      <td>1</td>\n",
       "      <td>4</td>\n",
       "      <td>-0.35</td>\n",
       "      <td>0</td>\n",
       "      <td>True</td>\n",
       "    </tr>\n",
       "    <tr>\n",
       "      <th>3</th>\n",
       "      <td>1</td>\n",
       "      <td>0</td>\n",
       "      <td>2</td>\n",
       "      <td>0.67</td>\n",
       "      <td>-0.64</td>\n",
       "      <td>2.36</td>\n",
       "      <td>-0.63</td>\n",
       "      <td>1.23</td>\n",
       "      <td>1.72</td>\n",
       "      <td>0</td>\n",
       "      <td>0</td>\n",
       "      <td>1</td>\n",
       "      <td>2</td>\n",
       "      <td>1</td>\n",
       "      <td>4</td>\n",
       "      <td>-1.52</td>\n",
       "      <td>1</td>\n",
       "      <td>True</td>\n",
       "    </tr>\n",
       "    <tr>\n",
       "      <th>4</th>\n",
       "      <td>0</td>\n",
       "      <td>0</td>\n",
       "      <td>2</td>\n",
       "      <td>-0.61</td>\n",
       "      <td>0.23</td>\n",
       "      <td>-0.65</td>\n",
       "      <td>1.87</td>\n",
       "      <td>-0.66</td>\n",
       "      <td>-0.62</td>\n",
       "      <td>0</td>\n",
       "      <td>0</td>\n",
       "      <td>1</td>\n",
       "      <td>5</td>\n",
       "      <td>1</td>\n",
       "      <td>4</td>\n",
       "      <td>-0.64</td>\n",
       "      <td>1</td>\n",
       "      <td>False</td>\n",
       "    </tr>\n",
       "  </tbody>\n",
       "</table>\n",
       "</div>"
      ],
      "text/plain": [
       "   HomePlanet  CryoSleep  Destination   Age  RoomService  FoodCourt  \\\n",
       "0           0          1            2 -0.11        -0.64      -0.65   \n",
       "1           0          0            2 -0.68        -0.64       0.14   \n",
       "2           1          1            0  0.17        -0.64      -0.65   \n",
       "3           1          0            2  0.67        -0.64       2.36   \n",
       "4           0          0            2 -0.61         0.23      -0.65   \n",
       "\n",
       "   ShoppingMall   Spa  VRDeck  GroupNo  GroupSize  OnlyMember  CabinDeck  \\\n",
       "0         -0.63 -0.66   -0.62        0          0           1          6   \n",
       "1         -0.63  2.23   -0.62        0          0           1          5   \n",
       "2         -0.63 -0.66   -0.62        0          0           1          2   \n",
       "3         -0.63  1.23    1.72        0          0           1          2   \n",
       "4          1.87 -0.66   -0.62        0          0           1          5   \n",
       "\n",
       "   CabinSide  CabinNumInterval  FamilySize  SpendOnShip  Transported  \n",
       "0          1                 4        0.23            0         True  \n",
       "1          1                 4       -0.93            1        False  \n",
       "2          1                 4       -0.35            0         True  \n",
       "3          1                 4       -1.52            1         True  \n",
       "4          1                 4       -0.64            1        False  "
      ]
     },
     "execution_count": 70,
     "metadata": {},
     "output_type": "execute_result"
    }
   ],
   "source": [
    "# add the result to the dataframe\n",
    "df_test['Transported'] = target >= 5\n",
    "df_test.head()"
   ]
  }
 ],
 "metadata": {
  "kernelspec": {
   "display_name": "Python 3.8.13 ('lazyp')",
   "language": "python",
   "name": "python3"
  },
  "language_info": {
   "codemirror_mode": {
    "name": "ipython",
    "version": 3
   },
   "file_extension": ".py",
   "mimetype": "text/x-python",
   "name": "python",
   "nbconvert_exporter": "python",
   "pygments_lexer": "ipython3",
   "version": "3.8.13"
  },
  "orig_nbformat": 4,
  "vscode": {
   "interpreter": {
    "hash": "936ab6569b94ec1ac299c911d2709e1983d94f14de8b2a3edc308a1804e508e3"
   }
  }
 },
 "nbformat": 4,
 "nbformat_minor": 2
}
